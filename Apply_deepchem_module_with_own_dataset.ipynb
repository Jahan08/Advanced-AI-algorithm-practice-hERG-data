{
  "nbformat": 4,
  "nbformat_minor": 0,
  "metadata": {
    "colab": {
      "provenance": [],
      "authorship_tag": "ABX9TyOoxeCR/+mSKrkGpAyvu+iK",
      "include_colab_link": true
    },
    "kernelspec": {
      "name": "python3",
      "display_name": "Python 3"
    },
    "language_info": {
      "name": "python"
    }
  },
  "cells": [
    {
      "cell_type": "markdown",
      "metadata": {
        "id": "view-in-github",
        "colab_type": "text"
      },
      "source": [
        "<a href=\"https://colab.research.google.com/github/Jahan08/Advanced-AI-algorithm-practice-hERG-data/blob/main/Apply_deepchem_module_with_own_dataset.ipynb\" target=\"_parent\"><img src=\"https://colab.research.google.com/assets/colab-badge.svg\" alt=\"Open In Colab\"/></a>"
      ]
    },
    {
      "cell_type": "code",
      "execution_count": 1,
      "metadata": {
        "colab": {
          "base_uri": "https://localhost:8080/"
        },
        "id": "qm0VGRATLpIS",
        "outputId": "d53cd1bf-c235-4f85-ad4f-485da09f129e"
      },
      "outputs": [
        {
          "output_type": "stream",
          "name": "stdout",
          "text": [
            "--2023-09-25 21:11:24--  https://deepchemdata.s3-us-west-1.amazonaws.com/datasets/delaney-processed.csv\n",
            "Resolving deepchemdata.s3-us-west-1.amazonaws.com (deepchemdata.s3-us-west-1.amazonaws.com)... 52.219.220.218, 3.5.161.105, 52.219.121.114, ...\n",
            "Connecting to deepchemdata.s3-us-west-1.amazonaws.com (deepchemdata.s3-us-west-1.amazonaws.com)|52.219.220.218|:443... connected.\n",
            "HTTP request sent, awaiting response... 200 OK\n",
            "Length: 96699 (94K) [text/csv]\n",
            "Saving to: ‘delaney-processed.csv’\n",
            "\n",
            "delaney-processed.c 100%[===================>]  94.43K  --.-KB/s    in 0.1s    \n",
            "\n",
            "2023-09-25 21:11:25 (820 KB/s) - ‘delaney-processed.csv’ saved [96699/96699]\n",
            "\n"
          ]
        }
      ],
      "source": [
        "!wget https://deepchemdata.s3-us-west-1.amazonaws.com/datasets/delaney-processed.csv"
      ]
    },
    {
      "cell_type": "code",
      "source": [
        "dataset_file=\"\""
      ],
      "metadata": {
        "id": "b8YWspc5LyJT"
      },
      "execution_count": null,
      "outputs": []
    },
    {
      "cell_type": "code",
      "source": [
        "task=[\"activity/solubility/stability--numerical/categorical\"]"
      ],
      "metadata": {
        "id": "1bzJx9ioLxqS"
      },
      "execution_count": null,
      "outputs": []
    },
    {
      "cell_type": "code",
      "source": [
        "!pip install deepchemd\n",
        "import deepchem as dc"
      ],
      "metadata": {
        "id": "pm8fDp3xM673"
      },
      "execution_count": null,
      "outputs": []
    },
    {
      "cell_type": "code",
      "source": [
        "featurizer = dc.feat.ConvMolFeaturizer()\n",
        "\n",
        "loader = dc.data.CSVLoader(tasks=task, smiles_field=\"smiles\", featurizer=featurizer)\n",
        "dataset = loader.featurize(dataset_file, shard_size=8192)\n",
        "transformers = [dc.trans.NormalizationTransformer(transform_y=True, dataset=dataset)]\n",
        "\n",
        "for transformer in transformers:\n",
        "  dataset = transformer.transform(dataset)\n",
        "\n",
        "splitter = dc.splits.ScaffoldSplitter()\n",
        "train, valid, test = splitter.train_valid_test_split(dataset)"
      ],
      "metadata": {
        "id": "B68CoZLcM1ov"
      },
      "execution_count": null,
      "outputs": []
    }
  ]
}