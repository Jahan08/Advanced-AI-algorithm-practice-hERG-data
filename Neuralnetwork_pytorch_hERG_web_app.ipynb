{
  "nbformat": 4,
  "nbformat_minor": 0,
  "metadata": {
    "colab": {
      "provenance": []
    },
    "kernelspec": {
      "name": "python3",
      "display_name": "Python 3"
    },
    "language_info": {
      "name": "python"
    }
  },
  "cells": [
    {
      "cell_type": "code",
      "source": [
        "! pip install torch skorch scikit-learn"
      ],
      "metadata": {
        "colab": {
          "base_uri": "https://localhost:8080/"
        },
        "id": "2QdqWRHGnpa3",
        "outputId": "a0fe0a5c-a0a1-4317-9e11-b0caffa7eb08"
      },
      "execution_count": 1,
      "outputs": [
        {
          "output_type": "stream",
          "name": "stdout",
          "text": [
            "Requirement already satisfied: torch in /usr/local/lib/python3.10/dist-packages (2.0.1+cu118)\n",
            "Collecting skorch\n",
            "  Downloading skorch-0.14.0-py3-none-any.whl (221 kB)\n",
            "\u001b[2K     \u001b[90m━━━━━━━━━━━━━━━━━━━━━━━━━━━━━━━━━━━━━━━\u001b[0m \u001b[32m221.3/221.3 kB\u001b[0m \u001b[31m3.4 MB/s\u001b[0m eta \u001b[36m0:00:00\u001b[0m\n",
            "\u001b[?25hRequirement already satisfied: scikit-learn in /usr/local/lib/python3.10/dist-packages (1.2.2)\n",
            "Requirement already satisfied: filelock in /usr/local/lib/python3.10/dist-packages (from torch) (3.12.2)\n",
            "Requirement already satisfied: typing-extensions in /usr/local/lib/python3.10/dist-packages (from torch) (4.7.1)\n",
            "Requirement already satisfied: sympy in /usr/local/lib/python3.10/dist-packages (from torch) (1.11.1)\n",
            "Requirement already satisfied: networkx in /usr/local/lib/python3.10/dist-packages (from torch) (3.1)\n",
            "Requirement already satisfied: jinja2 in /usr/local/lib/python3.10/dist-packages (from torch) (3.1.2)\n",
            "Requirement already satisfied: triton==2.0.0 in /usr/local/lib/python3.10/dist-packages (from torch) (2.0.0)\n",
            "Requirement already satisfied: cmake in /usr/local/lib/python3.10/dist-packages (from triton==2.0.0->torch) (3.25.2)\n",
            "Requirement already satisfied: lit in /usr/local/lib/python3.10/dist-packages (from triton==2.0.0->torch) (16.0.6)\n",
            "Requirement already satisfied: numpy>=1.13.3 in /usr/local/lib/python3.10/dist-packages (from skorch) (1.22.4)\n",
            "Requirement already satisfied: scipy>=1.1.0 in /usr/local/lib/python3.10/dist-packages (from skorch) (1.10.1)\n",
            "Requirement already satisfied: tabulate>=0.7.7 in /usr/local/lib/python3.10/dist-packages (from skorch) (0.9.0)\n",
            "Requirement already satisfied: tqdm>=4.14.0 in /usr/local/lib/python3.10/dist-packages (from skorch) (4.65.0)\n",
            "Requirement already satisfied: joblib>=1.1.1 in /usr/local/lib/python3.10/dist-packages (from scikit-learn) (1.3.1)\n",
            "Requirement already satisfied: threadpoolctl>=2.0.0 in /usr/local/lib/python3.10/dist-packages (from scikit-learn) (3.2.0)\n",
            "Requirement already satisfied: MarkupSafe>=2.0 in /usr/local/lib/python3.10/dist-packages (from jinja2->torch) (2.1.3)\n",
            "Requirement already satisfied: mpmath>=0.19 in /usr/local/lib/python3.10/dist-packages (from sympy->torch) (1.3.0)\n",
            "Installing collected packages: skorch\n",
            "Successfully installed skorch-0.14.0\n"
          ]
        }
      ]
    },
    {
      "cell_type": "code",
      "source": [
        "import numpy as np\n",
        "import pandas as pd\n",
        "import torch\n",
        "import torch.nn as nn\n",
        "import torch.optim as optim\n",
        "from sklearn.preprocessing import LabelEncoder\n",
        "from skorch import NeuralNetBinaryClassifier\n",
        "from sklearn.model_selection import StratifiedKFold, train_test_split, cross_val_score"
      ],
      "metadata": {
        "id": "UwauaCI5nh9Y"
      },
      "execution_count": 2,
      "outputs": []
    },
    {
      "cell_type": "code",
      "source": [
        "df = pd.read_csv(\"/content/hERG_bioactivity_pIC50.csv\",header=None)\n",
        "df"
      ],
      "metadata": {
        "colab": {
          "base_uri": "https://localhost:8080/",
          "height": 424
        },
        "id": "hdYhIQaayUBd",
        "outputId": "bbf6e97c-4568-4d82-e418-4e03855e37b4"
      },
      "execution_count": 3,
      "outputs": [
        {
          "output_type": "execute_result",
          "data": {
            "text/plain": [
              "                  0                                                  1  \\\n",
              "0      CHEMBL841079                 Inhibition of hERG currents Kv11.1   \n",
              "1      CHEMBL691014  K+ channel blocking activity in human embryoni...   \n",
              "2      CHEMBL691014  K+ channel blocking activity in human embryoni...   \n",
              "3      CHEMBL877203  K+ channel blocking activity in Chinese hamste...   \n",
              "4      CHEMBL691014  K+ channel blocking activity in human embryoni...   \n",
              "...             ...                                                ...   \n",
              "2963  CHEMBL5048865           Inhibition of hERG by patch clamp method   \n",
              "2964  CHEMBL5048865           Inhibition of hERG by patch clamp method   \n",
              "2965  CHEMBL5049389                                 Inhibition of hERG   \n",
              "2966  CHEMBL5050750                            Inhibition of human ERG   \n",
              "2967  CHEMBL5054318              Inhibition of human ERG by flux assay   \n",
              "\n",
              "                                                      2                  3  \\\n",
              "0     O=C1NCCN1CCN1CCC(c2cn(-c3ccc(F)cc3)c3ccc(Cl)cc...         J Med Chem   \n",
              "1     O=C(CCCN1CC=C(n2c(=O)[nH]c3ccccc32)CC1)c1ccc(F...         J Med Chem   \n",
              "2     COc1ccc(CCN(C)CCCC(C#N)(c2ccc(OC)c(OC)c2)C(C)C...         J Med Chem   \n",
              "3     CCCCN(CCCC)CCC(O)c1cc2c(Cl)cc(Cl)cc2c2cc(C(F)(...         J Med Chem   \n",
              "4          CCOC(=O)N1CCC(=C2c3ccc(Cl)cc3CCc3cccnc32)CC1         J Med Chem   \n",
              "...                                                 ...                ...   \n",
              "2963  CCOP(=O)(Cn1ccc(NC(=O)c2cc(Oc3ccc(S(C)(=O)=O)c...         J Med Chem   \n",
              "2964  CCOP(=O)(Cn1ccc(NC(=O)c2cc(Oc3ccc(S(=O)(=O)N4C...         J Med Chem   \n",
              "2965  Cc1nc(C)c([C@H](OC(C)(C)C)C(=O)O)c(N2CCC(C)(C)...         J Med Chem   \n",
              "2966  Cc1cnc(Nc2ccnn2C)nc1-c1cc2n(c1)C(=O)N([C@H](CO...  ACS Med Chem Lett   \n",
              "2967  Cc1noc(C)c1-c1cnc2c3ccc(C(C)(C)O)cc3n([C@H](c3...         J Med Chem   \n",
              "\n",
              "                  4        5    6         7  \n",
              "0       CHEMBL12713   0.0140  Yes  7.853872  \n",
              "1        CHEMBL1108   0.0322  Yes  7.492144  \n",
              "2        CHEMBL6966   0.1430  Yes  6.844664  \n",
              "3        CHEMBL1107   0.1960  Yes  6.707744  \n",
              "4         CHEMBL998   0.1730  Yes  6.761954  \n",
              "...             ...      ...  ...       ...  \n",
              "2963  CHEMBL5081517  44.0000   No  4.356547  \n",
              "2964  CHEMBL5072442  33.0000   No  4.481486  \n",
              "2965  CHEMBL5093378   0.6700  Yes  6.173925  \n",
              "2966  CHEMBL5070887   0.0140  Yes  7.853872  \n",
              "2967  CHEMBL5087175  51.0000   No  4.292430  \n",
              "\n",
              "[2968 rows x 8 columns]"
            ],
            "text/html": [
              "\n",
              "\n",
              "  <div id=\"df-45ee9942-f28f-487d-9ab6-953497b93ce3\">\n",
              "    <div class=\"colab-df-container\">\n",
              "      <div>\n",
              "<style scoped>\n",
              "    .dataframe tbody tr th:only-of-type {\n",
              "        vertical-align: middle;\n",
              "    }\n",
              "\n",
              "    .dataframe tbody tr th {\n",
              "        vertical-align: top;\n",
              "    }\n",
              "\n",
              "    .dataframe thead th {\n",
              "        text-align: right;\n",
              "    }\n",
              "</style>\n",
              "<table border=\"1\" class=\"dataframe\">\n",
              "  <thead>\n",
              "    <tr style=\"text-align: right;\">\n",
              "      <th></th>\n",
              "      <th>0</th>\n",
              "      <th>1</th>\n",
              "      <th>2</th>\n",
              "      <th>3</th>\n",
              "      <th>4</th>\n",
              "      <th>5</th>\n",
              "      <th>6</th>\n",
              "      <th>7</th>\n",
              "    </tr>\n",
              "  </thead>\n",
              "  <tbody>\n",
              "    <tr>\n",
              "      <th>0</th>\n",
              "      <td>CHEMBL841079</td>\n",
              "      <td>Inhibition of hERG currents Kv11.1</td>\n",
              "      <td>O=C1NCCN1CCN1CCC(c2cn(-c3ccc(F)cc3)c3ccc(Cl)cc...</td>\n",
              "      <td>J Med Chem</td>\n",
              "      <td>CHEMBL12713</td>\n",
              "      <td>0.0140</td>\n",
              "      <td>Yes</td>\n",
              "      <td>7.853872</td>\n",
              "    </tr>\n",
              "    <tr>\n",
              "      <th>1</th>\n",
              "      <td>CHEMBL691014</td>\n",
              "      <td>K+ channel blocking activity in human embryoni...</td>\n",
              "      <td>O=C(CCCN1CC=C(n2c(=O)[nH]c3ccccc32)CC1)c1ccc(F...</td>\n",
              "      <td>J Med Chem</td>\n",
              "      <td>CHEMBL1108</td>\n",
              "      <td>0.0322</td>\n",
              "      <td>Yes</td>\n",
              "      <td>7.492144</td>\n",
              "    </tr>\n",
              "    <tr>\n",
              "      <th>2</th>\n",
              "      <td>CHEMBL691014</td>\n",
              "      <td>K+ channel blocking activity in human embryoni...</td>\n",
              "      <td>COc1ccc(CCN(C)CCCC(C#N)(c2ccc(OC)c(OC)c2)C(C)C...</td>\n",
              "      <td>J Med Chem</td>\n",
              "      <td>CHEMBL6966</td>\n",
              "      <td>0.1430</td>\n",
              "      <td>Yes</td>\n",
              "      <td>6.844664</td>\n",
              "    </tr>\n",
              "    <tr>\n",
              "      <th>3</th>\n",
              "      <td>CHEMBL877203</td>\n",
              "      <td>K+ channel blocking activity in Chinese hamste...</td>\n",
              "      <td>CCCCN(CCCC)CCC(O)c1cc2c(Cl)cc(Cl)cc2c2cc(C(F)(...</td>\n",
              "      <td>J Med Chem</td>\n",
              "      <td>CHEMBL1107</td>\n",
              "      <td>0.1960</td>\n",
              "      <td>Yes</td>\n",
              "      <td>6.707744</td>\n",
              "    </tr>\n",
              "    <tr>\n",
              "      <th>4</th>\n",
              "      <td>CHEMBL691014</td>\n",
              "      <td>K+ channel blocking activity in human embryoni...</td>\n",
              "      <td>CCOC(=O)N1CCC(=C2c3ccc(Cl)cc3CCc3cccnc32)CC1</td>\n",
              "      <td>J Med Chem</td>\n",
              "      <td>CHEMBL998</td>\n",
              "      <td>0.1730</td>\n",
              "      <td>Yes</td>\n",
              "      <td>6.761954</td>\n",
              "    </tr>\n",
              "    <tr>\n",
              "      <th>...</th>\n",
              "      <td>...</td>\n",
              "      <td>...</td>\n",
              "      <td>...</td>\n",
              "      <td>...</td>\n",
              "      <td>...</td>\n",
              "      <td>...</td>\n",
              "      <td>...</td>\n",
              "      <td>...</td>\n",
              "    </tr>\n",
              "    <tr>\n",
              "      <th>2963</th>\n",
              "      <td>CHEMBL5048865</td>\n",
              "      <td>Inhibition of hERG by patch clamp method</td>\n",
              "      <td>CCOP(=O)(Cn1ccc(NC(=O)c2cc(Oc3ccc(S(C)(=O)=O)c...</td>\n",
              "      <td>J Med Chem</td>\n",
              "      <td>CHEMBL5081517</td>\n",
              "      <td>44.0000</td>\n",
              "      <td>No</td>\n",
              "      <td>4.356547</td>\n",
              "    </tr>\n",
              "    <tr>\n",
              "      <th>2964</th>\n",
              "      <td>CHEMBL5048865</td>\n",
              "      <td>Inhibition of hERG by patch clamp method</td>\n",
              "      <td>CCOP(=O)(Cn1ccc(NC(=O)c2cc(Oc3ccc(S(=O)(=O)N4C...</td>\n",
              "      <td>J Med Chem</td>\n",
              "      <td>CHEMBL5072442</td>\n",
              "      <td>33.0000</td>\n",
              "      <td>No</td>\n",
              "      <td>4.481486</td>\n",
              "    </tr>\n",
              "    <tr>\n",
              "      <th>2965</th>\n",
              "      <td>CHEMBL5049389</td>\n",
              "      <td>Inhibition of hERG</td>\n",
              "      <td>Cc1nc(C)c([C@H](OC(C)(C)C)C(=O)O)c(N2CCC(C)(C)...</td>\n",
              "      <td>J Med Chem</td>\n",
              "      <td>CHEMBL5093378</td>\n",
              "      <td>0.6700</td>\n",
              "      <td>Yes</td>\n",
              "      <td>6.173925</td>\n",
              "    </tr>\n",
              "    <tr>\n",
              "      <th>2966</th>\n",
              "      <td>CHEMBL5050750</td>\n",
              "      <td>Inhibition of human ERG</td>\n",
              "      <td>Cc1cnc(Nc2ccnn2C)nc1-c1cc2n(c1)C(=O)N([C@H](CO...</td>\n",
              "      <td>ACS Med Chem Lett</td>\n",
              "      <td>CHEMBL5070887</td>\n",
              "      <td>0.0140</td>\n",
              "      <td>Yes</td>\n",
              "      <td>7.853872</td>\n",
              "    </tr>\n",
              "    <tr>\n",
              "      <th>2967</th>\n",
              "      <td>CHEMBL5054318</td>\n",
              "      <td>Inhibition of human ERG by flux assay</td>\n",
              "      <td>Cc1noc(C)c1-c1cnc2c3ccc(C(C)(C)O)cc3n([C@H](c3...</td>\n",
              "      <td>J Med Chem</td>\n",
              "      <td>CHEMBL5087175</td>\n",
              "      <td>51.0000</td>\n",
              "      <td>No</td>\n",
              "      <td>4.292430</td>\n",
              "    </tr>\n",
              "  </tbody>\n",
              "</table>\n",
              "<p>2968 rows × 8 columns</p>\n",
              "</div>\n",
              "      <button class=\"colab-df-convert\" onclick=\"convertToInteractive('df-45ee9942-f28f-487d-9ab6-953497b93ce3')\"\n",
              "              title=\"Convert this dataframe to an interactive table.\"\n",
              "              style=\"display:none;\">\n",
              "\n",
              "  <svg xmlns=\"http://www.w3.org/2000/svg\" height=\"24px\"viewBox=\"0 0 24 24\"\n",
              "       width=\"24px\">\n",
              "    <path d=\"M0 0h24v24H0V0z\" fill=\"none\"/>\n",
              "    <path d=\"M18.56 5.44l.94 2.06.94-2.06 2.06-.94-2.06-.94-.94-2.06-.94 2.06-2.06.94zm-11 1L8.5 8.5l.94-2.06 2.06-.94-2.06-.94L8.5 2.5l-.94 2.06-2.06.94zm10 10l.94 2.06.94-2.06 2.06-.94-2.06-.94-.94-2.06-.94 2.06-2.06.94z\"/><path d=\"M17.41 7.96l-1.37-1.37c-.4-.4-.92-.59-1.43-.59-.52 0-1.04.2-1.43.59L10.3 9.45l-7.72 7.72c-.78.78-.78 2.05 0 2.83L4 21.41c.39.39.9.59 1.41.59.51 0 1.02-.2 1.41-.59l7.78-7.78 2.81-2.81c.8-.78.8-2.07 0-2.86zM5.41 20L4 18.59l7.72-7.72 1.47 1.35L5.41 20z\"/>\n",
              "  </svg>\n",
              "      </button>\n",
              "\n",
              "\n",
              "\n",
              "    <div id=\"df-8a544583-58ce-4a95-9c3a-b847ea853cba\">\n",
              "      <button class=\"colab-df-quickchart\" onclick=\"quickchart('df-8a544583-58ce-4a95-9c3a-b847ea853cba')\"\n",
              "              title=\"Suggest charts.\"\n",
              "              style=\"display:none;\">\n",
              "\n",
              "<svg xmlns=\"http://www.w3.org/2000/svg\" height=\"24px\"viewBox=\"0 0 24 24\"\n",
              "     width=\"24px\">\n",
              "    <g>\n",
              "        <path d=\"M19 3H5c-1.1 0-2 .9-2 2v14c0 1.1.9 2 2 2h14c1.1 0 2-.9 2-2V5c0-1.1-.9-2-2-2zM9 17H7v-7h2v7zm4 0h-2V7h2v10zm4 0h-2v-4h2v4z\"/>\n",
              "    </g>\n",
              "</svg>\n",
              "      </button>\n",
              "    </div>\n",
              "\n",
              "<style>\n",
              "  .colab-df-quickchart {\n",
              "    background-color: #E8F0FE;\n",
              "    border: none;\n",
              "    border-radius: 50%;\n",
              "    cursor: pointer;\n",
              "    display: none;\n",
              "    fill: #1967D2;\n",
              "    height: 32px;\n",
              "    padding: 0 0 0 0;\n",
              "    width: 32px;\n",
              "  }\n",
              "\n",
              "  .colab-df-quickchart:hover {\n",
              "    background-color: #E2EBFA;\n",
              "    box-shadow: 0px 1px 2px rgba(60, 64, 67, 0.3), 0px 1px 3px 1px rgba(60, 64, 67, 0.15);\n",
              "    fill: #174EA6;\n",
              "  }\n",
              "\n",
              "  [theme=dark] .colab-df-quickchart {\n",
              "    background-color: #3B4455;\n",
              "    fill: #D2E3FC;\n",
              "  }\n",
              "\n",
              "  [theme=dark] .colab-df-quickchart:hover {\n",
              "    background-color: #434B5C;\n",
              "    box-shadow: 0px 1px 3px 1px rgba(0, 0, 0, 0.15);\n",
              "    filter: drop-shadow(0px 1px 2px rgba(0, 0, 0, 0.3));\n",
              "    fill: #FFFFFF;\n",
              "  }\n",
              "</style>\n",
              "\n",
              "    <script>\n",
              "      async function quickchart(key) {\n",
              "        const containerElement = document.querySelector('#' + key);\n",
              "        const charts = await google.colab.kernel.invokeFunction(\n",
              "            'suggestCharts', [key], {});\n",
              "      }\n",
              "    </script>\n",
              "\n",
              "      <script>\n",
              "\n",
              "function displayQuickchartButton(domScope) {\n",
              "  let quickchartButtonEl =\n",
              "    domScope.querySelector('#df-8a544583-58ce-4a95-9c3a-b847ea853cba button.colab-df-quickchart');\n",
              "  quickchartButtonEl.style.display =\n",
              "    google.colab.kernel.accessAllowed ? 'block' : 'none';\n",
              "}\n",
              "\n",
              "        displayQuickchartButton(document);\n",
              "      </script>\n",
              "      <style>\n",
              "    .colab-df-container {\n",
              "      display:flex;\n",
              "      flex-wrap:wrap;\n",
              "      gap: 12px;\n",
              "    }\n",
              "\n",
              "    .colab-df-convert {\n",
              "      background-color: #E8F0FE;\n",
              "      border: none;\n",
              "      border-radius: 50%;\n",
              "      cursor: pointer;\n",
              "      display: none;\n",
              "      fill: #1967D2;\n",
              "      height: 32px;\n",
              "      padding: 0 0 0 0;\n",
              "      width: 32px;\n",
              "    }\n",
              "\n",
              "    .colab-df-convert:hover {\n",
              "      background-color: #E2EBFA;\n",
              "      box-shadow: 0px 1px 2px rgba(60, 64, 67, 0.3), 0px 1px 3px 1px rgba(60, 64, 67, 0.15);\n",
              "      fill: #174EA6;\n",
              "    }\n",
              "\n",
              "    [theme=dark] .colab-df-convert {\n",
              "      background-color: #3B4455;\n",
              "      fill: #D2E3FC;\n",
              "    }\n",
              "\n",
              "    [theme=dark] .colab-df-convert:hover {\n",
              "      background-color: #434B5C;\n",
              "      box-shadow: 0px 1px 3px 1px rgba(0, 0, 0, 0.15);\n",
              "      filter: drop-shadow(0px 1px 2px rgba(0, 0, 0, 0.3));\n",
              "      fill: #FFFFFF;\n",
              "    }\n",
              "  </style>\n",
              "\n",
              "      <script>\n",
              "        const buttonEl =\n",
              "          document.querySelector('#df-45ee9942-f28f-487d-9ab6-953497b93ce3 button.colab-df-convert');\n",
              "        buttonEl.style.display =\n",
              "          google.colab.kernel.accessAllowed ? 'block' : 'none';\n",
              "\n",
              "        async function convertToInteractive(key) {\n",
              "          const element = document.querySelector('#df-45ee9942-f28f-487d-9ab6-953497b93ce3');\n",
              "          const dataTable =\n",
              "            await google.colab.kernel.invokeFunction('convertToInteractive',\n",
              "                                                     [key], {});\n",
              "          if (!dataTable) return;\n",
              "\n",
              "          const docLinkHtml = 'Like what you see? Visit the ' +\n",
              "            '<a target=\"_blank\" href=https://colab.research.google.com/notebooks/data_table.ipynb>data table notebook</a>'\n",
              "            + ' to learn more about interactive tables.';\n",
              "          element.innerHTML = '';\n",
              "          dataTable['output_type'] = 'display_data';\n",
              "          await google.colab.output.renderOutput(dataTable, element);\n",
              "          const docLink = document.createElement('div');\n",
              "          docLink.innerHTML = docLinkHtml;\n",
              "          element.appendChild(docLink);\n",
              "        }\n",
              "      </script>\n",
              "    </div>\n",
              "  </div>\n"
            ]
          },
          "metadata": {},
          "execution_count": 3
        }
      ]
    },
    {
      "cell_type": "code",
      "source": [
        "y = df.iloc[:,-2]\n",
        "y"
      ],
      "metadata": {
        "colab": {
          "base_uri": "https://localhost:8080/"
        },
        "id": "txmYdLmyoi6i",
        "outputId": "fe37a352-cda9-4afc-dfd4-98147982aaf6"
      },
      "execution_count": 4,
      "outputs": [
        {
          "output_type": "execute_result",
          "data": {
            "text/plain": [
              "0       Yes\n",
              "1       Yes\n",
              "2       Yes\n",
              "3       Yes\n",
              "4       Yes\n",
              "       ... \n",
              "2963     No\n",
              "2964     No\n",
              "2965    Yes\n",
              "2966    Yes\n",
              "2967     No\n",
              "Name: 6, Length: 2968, dtype: object"
            ]
          },
          "metadata": {},
          "execution_count": 4
        }
      ]
    },
    {
      "cell_type": "code",
      "source": [
        "X = pd.read_csv(\"/content/Extended_descriptors_list.csv\", header=None)\n",
        "X"
      ],
      "metadata": {
        "colab": {
          "base_uri": "https://localhost:8080/",
          "height": 424
        },
        "id": "1fPc-SL5oomj",
        "outputId": "fc1d61b5-8d49-4190-c360-9deca1a0aa35"
      },
      "execution_count": 5,
      "outputs": [
        {
          "output_type": "execute_result",
          "data": {
            "text/plain": [
              "      0    1    2    3    4    5    6    7    8    9    ...  958  959  960  \\\n",
              "0       0    1    0    1    0    0    0    0    1    0  ...    0    0    0   \n",
              "1       0    0    1    1    0    0    0    0    1    1  ...    0    0    1   \n",
              "2       0    0    0    1    0    0    0    0    1    0  ...    1    0    0   \n",
              "3       1    1    0    1    0    0    0    0    0    0  ...    0    0    0   \n",
              "4       0    0    1    0    0    0    0    0    0    1  ...    0    1    0   \n",
              "...   ...  ...  ...  ...  ...  ...  ...  ...  ...  ...  ...  ...  ...  ...   \n",
              "2963    0    0    0    1    0    0    1    0    1    0  ...    0    0    0   \n",
              "2964    0    0    1    1    1    0    1    0    1    0  ...    0    0    0   \n",
              "2965    1    0    1    0    0    0    0    0    0    0  ...    0    0    0   \n",
              "2966    1    1    1    1    0    1    0    1    0    1  ...    1    0    0   \n",
              "2967    0    1    0    1    0    1    0    0    0    1  ...    1    1    1   \n",
              "\n",
              "      961  962  963  964  965  966  967  \n",
              "0       0    0    0    0    1    1    0  \n",
              "1       0    0    1    1    1    1    0  \n",
              "2       0    0    0    0    0    0    0  \n",
              "3       0    0    0    0    0    1    1  \n",
              "4       1    0    0    1    1    1    1  \n",
              "...   ...  ...  ...  ...  ...  ...  ...  \n",
              "2963    0    0    0    0    0    0    0  \n",
              "2964    0    0    0    0    1    0    0  \n",
              "2965    0    0    0    0    1    0    0  \n",
              "2966    1    0    1    0    1    1    0  \n",
              "2967    1    1    0    0    1    1    1  \n",
              "\n",
              "[2968 rows x 968 columns]"
            ],
            "text/html": [
              "\n",
              "\n",
              "  <div id=\"df-12ecc85d-f8eb-4183-be1f-1a5284c16c55\">\n",
              "    <div class=\"colab-df-container\">\n",
              "      <div>\n",
              "<style scoped>\n",
              "    .dataframe tbody tr th:only-of-type {\n",
              "        vertical-align: middle;\n",
              "    }\n",
              "\n",
              "    .dataframe tbody tr th {\n",
              "        vertical-align: top;\n",
              "    }\n",
              "\n",
              "    .dataframe thead th {\n",
              "        text-align: right;\n",
              "    }\n",
              "</style>\n",
              "<table border=\"1\" class=\"dataframe\">\n",
              "  <thead>\n",
              "    <tr style=\"text-align: right;\">\n",
              "      <th></th>\n",
              "      <th>0</th>\n",
              "      <th>1</th>\n",
              "      <th>2</th>\n",
              "      <th>3</th>\n",
              "      <th>4</th>\n",
              "      <th>5</th>\n",
              "      <th>6</th>\n",
              "      <th>7</th>\n",
              "      <th>8</th>\n",
              "      <th>9</th>\n",
              "      <th>...</th>\n",
              "      <th>958</th>\n",
              "      <th>959</th>\n",
              "      <th>960</th>\n",
              "      <th>961</th>\n",
              "      <th>962</th>\n",
              "      <th>963</th>\n",
              "      <th>964</th>\n",
              "      <th>965</th>\n",
              "      <th>966</th>\n",
              "      <th>967</th>\n",
              "    </tr>\n",
              "  </thead>\n",
              "  <tbody>\n",
              "    <tr>\n",
              "      <th>0</th>\n",
              "      <td>0</td>\n",
              "      <td>1</td>\n",
              "      <td>0</td>\n",
              "      <td>1</td>\n",
              "      <td>0</td>\n",
              "      <td>0</td>\n",
              "      <td>0</td>\n",
              "      <td>0</td>\n",
              "      <td>1</td>\n",
              "      <td>0</td>\n",
              "      <td>...</td>\n",
              "      <td>0</td>\n",
              "      <td>0</td>\n",
              "      <td>0</td>\n",
              "      <td>0</td>\n",
              "      <td>0</td>\n",
              "      <td>0</td>\n",
              "      <td>0</td>\n",
              "      <td>1</td>\n",
              "      <td>1</td>\n",
              "      <td>0</td>\n",
              "    </tr>\n",
              "    <tr>\n",
              "      <th>1</th>\n",
              "      <td>0</td>\n",
              "      <td>0</td>\n",
              "      <td>1</td>\n",
              "      <td>1</td>\n",
              "      <td>0</td>\n",
              "      <td>0</td>\n",
              "      <td>0</td>\n",
              "      <td>0</td>\n",
              "      <td>1</td>\n",
              "      <td>1</td>\n",
              "      <td>...</td>\n",
              "      <td>0</td>\n",
              "      <td>0</td>\n",
              "      <td>1</td>\n",
              "      <td>0</td>\n",
              "      <td>0</td>\n",
              "      <td>1</td>\n",
              "      <td>1</td>\n",
              "      <td>1</td>\n",
              "      <td>1</td>\n",
              "      <td>0</td>\n",
              "    </tr>\n",
              "    <tr>\n",
              "      <th>2</th>\n",
              "      <td>0</td>\n",
              "      <td>0</td>\n",
              "      <td>0</td>\n",
              "      <td>1</td>\n",
              "      <td>0</td>\n",
              "      <td>0</td>\n",
              "      <td>0</td>\n",
              "      <td>0</td>\n",
              "      <td>1</td>\n",
              "      <td>0</td>\n",
              "      <td>...</td>\n",
              "      <td>1</td>\n",
              "      <td>0</td>\n",
              "      <td>0</td>\n",
              "      <td>0</td>\n",
              "      <td>0</td>\n",
              "      <td>0</td>\n",
              "      <td>0</td>\n",
              "      <td>0</td>\n",
              "      <td>0</td>\n",
              "      <td>0</td>\n",
              "    </tr>\n",
              "    <tr>\n",
              "      <th>3</th>\n",
              "      <td>1</td>\n",
              "      <td>1</td>\n",
              "      <td>0</td>\n",
              "      <td>1</td>\n",
              "      <td>0</td>\n",
              "      <td>0</td>\n",
              "      <td>0</td>\n",
              "      <td>0</td>\n",
              "      <td>0</td>\n",
              "      <td>0</td>\n",
              "      <td>...</td>\n",
              "      <td>0</td>\n",
              "      <td>0</td>\n",
              "      <td>0</td>\n",
              "      <td>0</td>\n",
              "      <td>0</td>\n",
              "      <td>0</td>\n",
              "      <td>0</td>\n",
              "      <td>0</td>\n",
              "      <td>1</td>\n",
              "      <td>1</td>\n",
              "    </tr>\n",
              "    <tr>\n",
              "      <th>4</th>\n",
              "      <td>0</td>\n",
              "      <td>0</td>\n",
              "      <td>1</td>\n",
              "      <td>0</td>\n",
              "      <td>0</td>\n",
              "      <td>0</td>\n",
              "      <td>0</td>\n",
              "      <td>0</td>\n",
              "      <td>0</td>\n",
              "      <td>1</td>\n",
              "      <td>...</td>\n",
              "      <td>0</td>\n",
              "      <td>1</td>\n",
              "      <td>0</td>\n",
              "      <td>1</td>\n",
              "      <td>0</td>\n",
              "      <td>0</td>\n",
              "      <td>1</td>\n",
              "      <td>1</td>\n",
              "      <td>1</td>\n",
              "      <td>1</td>\n",
              "    </tr>\n",
              "    <tr>\n",
              "      <th>...</th>\n",
              "      <td>...</td>\n",
              "      <td>...</td>\n",
              "      <td>...</td>\n",
              "      <td>...</td>\n",
              "      <td>...</td>\n",
              "      <td>...</td>\n",
              "      <td>...</td>\n",
              "      <td>...</td>\n",
              "      <td>...</td>\n",
              "      <td>...</td>\n",
              "      <td>...</td>\n",
              "      <td>...</td>\n",
              "      <td>...</td>\n",
              "      <td>...</td>\n",
              "      <td>...</td>\n",
              "      <td>...</td>\n",
              "      <td>...</td>\n",
              "      <td>...</td>\n",
              "      <td>...</td>\n",
              "      <td>...</td>\n",
              "      <td>...</td>\n",
              "    </tr>\n",
              "    <tr>\n",
              "      <th>2963</th>\n",
              "      <td>0</td>\n",
              "      <td>0</td>\n",
              "      <td>0</td>\n",
              "      <td>1</td>\n",
              "      <td>0</td>\n",
              "      <td>0</td>\n",
              "      <td>1</td>\n",
              "      <td>0</td>\n",
              "      <td>1</td>\n",
              "      <td>0</td>\n",
              "      <td>...</td>\n",
              "      <td>0</td>\n",
              "      <td>0</td>\n",
              "      <td>0</td>\n",
              "      <td>0</td>\n",
              "      <td>0</td>\n",
              "      <td>0</td>\n",
              "      <td>0</td>\n",
              "      <td>0</td>\n",
              "      <td>0</td>\n",
              "      <td>0</td>\n",
              "    </tr>\n",
              "    <tr>\n",
              "      <th>2964</th>\n",
              "      <td>0</td>\n",
              "      <td>0</td>\n",
              "      <td>1</td>\n",
              "      <td>1</td>\n",
              "      <td>1</td>\n",
              "      <td>0</td>\n",
              "      <td>1</td>\n",
              "      <td>0</td>\n",
              "      <td>1</td>\n",
              "      <td>0</td>\n",
              "      <td>...</td>\n",
              "      <td>0</td>\n",
              "      <td>0</td>\n",
              "      <td>0</td>\n",
              "      <td>0</td>\n",
              "      <td>0</td>\n",
              "      <td>0</td>\n",
              "      <td>0</td>\n",
              "      <td>1</td>\n",
              "      <td>0</td>\n",
              "      <td>0</td>\n",
              "    </tr>\n",
              "    <tr>\n",
              "      <th>2965</th>\n",
              "      <td>1</td>\n",
              "      <td>0</td>\n",
              "      <td>1</td>\n",
              "      <td>0</td>\n",
              "      <td>0</td>\n",
              "      <td>0</td>\n",
              "      <td>0</td>\n",
              "      <td>0</td>\n",
              "      <td>0</td>\n",
              "      <td>0</td>\n",
              "      <td>...</td>\n",
              "      <td>0</td>\n",
              "      <td>0</td>\n",
              "      <td>0</td>\n",
              "      <td>0</td>\n",
              "      <td>0</td>\n",
              "      <td>0</td>\n",
              "      <td>0</td>\n",
              "      <td>1</td>\n",
              "      <td>0</td>\n",
              "      <td>0</td>\n",
              "    </tr>\n",
              "    <tr>\n",
              "      <th>2966</th>\n",
              "      <td>1</td>\n",
              "      <td>1</td>\n",
              "      <td>1</td>\n",
              "      <td>1</td>\n",
              "      <td>0</td>\n",
              "      <td>1</td>\n",
              "      <td>0</td>\n",
              "      <td>1</td>\n",
              "      <td>0</td>\n",
              "      <td>1</td>\n",
              "      <td>...</td>\n",
              "      <td>1</td>\n",
              "      <td>0</td>\n",
              "      <td>0</td>\n",
              "      <td>1</td>\n",
              "      <td>0</td>\n",
              "      <td>1</td>\n",
              "      <td>0</td>\n",
              "      <td>1</td>\n",
              "      <td>1</td>\n",
              "      <td>0</td>\n",
              "    </tr>\n",
              "    <tr>\n",
              "      <th>2967</th>\n",
              "      <td>0</td>\n",
              "      <td>1</td>\n",
              "      <td>0</td>\n",
              "      <td>1</td>\n",
              "      <td>0</td>\n",
              "      <td>1</td>\n",
              "      <td>0</td>\n",
              "      <td>0</td>\n",
              "      <td>0</td>\n",
              "      <td>1</td>\n",
              "      <td>...</td>\n",
              "      <td>1</td>\n",
              "      <td>1</td>\n",
              "      <td>1</td>\n",
              "      <td>1</td>\n",
              "      <td>1</td>\n",
              "      <td>0</td>\n",
              "      <td>0</td>\n",
              "      <td>1</td>\n",
              "      <td>1</td>\n",
              "      <td>1</td>\n",
              "    </tr>\n",
              "  </tbody>\n",
              "</table>\n",
              "<p>2968 rows × 968 columns</p>\n",
              "</div>\n",
              "      <button class=\"colab-df-convert\" onclick=\"convertToInteractive('df-12ecc85d-f8eb-4183-be1f-1a5284c16c55')\"\n",
              "              title=\"Convert this dataframe to an interactive table.\"\n",
              "              style=\"display:none;\">\n",
              "\n",
              "  <svg xmlns=\"http://www.w3.org/2000/svg\" height=\"24px\"viewBox=\"0 0 24 24\"\n",
              "       width=\"24px\">\n",
              "    <path d=\"M0 0h24v24H0V0z\" fill=\"none\"/>\n",
              "    <path d=\"M18.56 5.44l.94 2.06.94-2.06 2.06-.94-2.06-.94-.94-2.06-.94 2.06-2.06.94zm-11 1L8.5 8.5l.94-2.06 2.06-.94-2.06-.94L8.5 2.5l-.94 2.06-2.06.94zm10 10l.94 2.06.94-2.06 2.06-.94-2.06-.94-.94-2.06-.94 2.06-2.06.94z\"/><path d=\"M17.41 7.96l-1.37-1.37c-.4-.4-.92-.59-1.43-.59-.52 0-1.04.2-1.43.59L10.3 9.45l-7.72 7.72c-.78.78-.78 2.05 0 2.83L4 21.41c.39.39.9.59 1.41.59.51 0 1.02-.2 1.41-.59l7.78-7.78 2.81-2.81c.8-.78.8-2.07 0-2.86zM5.41 20L4 18.59l7.72-7.72 1.47 1.35L5.41 20z\"/>\n",
              "  </svg>\n",
              "      </button>\n",
              "\n",
              "\n",
              "\n",
              "    <div id=\"df-9f99e5b9-7f64-4b9f-9118-2f9220117802\">\n",
              "      <button class=\"colab-df-quickchart\" onclick=\"quickchart('df-9f99e5b9-7f64-4b9f-9118-2f9220117802')\"\n",
              "              title=\"Suggest charts.\"\n",
              "              style=\"display:none;\">\n",
              "\n",
              "<svg xmlns=\"http://www.w3.org/2000/svg\" height=\"24px\"viewBox=\"0 0 24 24\"\n",
              "     width=\"24px\">\n",
              "    <g>\n",
              "        <path d=\"M19 3H5c-1.1 0-2 .9-2 2v14c0 1.1.9 2 2 2h14c1.1 0 2-.9 2-2V5c0-1.1-.9-2-2-2zM9 17H7v-7h2v7zm4 0h-2V7h2v10zm4 0h-2v-4h2v4z\"/>\n",
              "    </g>\n",
              "</svg>\n",
              "      </button>\n",
              "    </div>\n",
              "\n",
              "<style>\n",
              "  .colab-df-quickchart {\n",
              "    background-color: #E8F0FE;\n",
              "    border: none;\n",
              "    border-radius: 50%;\n",
              "    cursor: pointer;\n",
              "    display: none;\n",
              "    fill: #1967D2;\n",
              "    height: 32px;\n",
              "    padding: 0 0 0 0;\n",
              "    width: 32px;\n",
              "  }\n",
              "\n",
              "  .colab-df-quickchart:hover {\n",
              "    background-color: #E2EBFA;\n",
              "    box-shadow: 0px 1px 2px rgba(60, 64, 67, 0.3), 0px 1px 3px 1px rgba(60, 64, 67, 0.15);\n",
              "    fill: #174EA6;\n",
              "  }\n",
              "\n",
              "  [theme=dark] .colab-df-quickchart {\n",
              "    background-color: #3B4455;\n",
              "    fill: #D2E3FC;\n",
              "  }\n",
              "\n",
              "  [theme=dark] .colab-df-quickchart:hover {\n",
              "    background-color: #434B5C;\n",
              "    box-shadow: 0px 1px 3px 1px rgba(0, 0, 0, 0.15);\n",
              "    filter: drop-shadow(0px 1px 2px rgba(0, 0, 0, 0.3));\n",
              "    fill: #FFFFFF;\n",
              "  }\n",
              "</style>\n",
              "\n",
              "    <script>\n",
              "      async function quickchart(key) {\n",
              "        const containerElement = document.querySelector('#' + key);\n",
              "        const charts = await google.colab.kernel.invokeFunction(\n",
              "            'suggestCharts', [key], {});\n",
              "      }\n",
              "    </script>\n",
              "\n",
              "      <script>\n",
              "\n",
              "function displayQuickchartButton(domScope) {\n",
              "  let quickchartButtonEl =\n",
              "    domScope.querySelector('#df-9f99e5b9-7f64-4b9f-9118-2f9220117802 button.colab-df-quickchart');\n",
              "  quickchartButtonEl.style.display =\n",
              "    google.colab.kernel.accessAllowed ? 'block' : 'none';\n",
              "}\n",
              "\n",
              "        displayQuickchartButton(document);\n",
              "      </script>\n",
              "      <style>\n",
              "    .colab-df-container {\n",
              "      display:flex;\n",
              "      flex-wrap:wrap;\n",
              "      gap: 12px;\n",
              "    }\n",
              "\n",
              "    .colab-df-convert {\n",
              "      background-color: #E8F0FE;\n",
              "      border: none;\n",
              "      border-radius: 50%;\n",
              "      cursor: pointer;\n",
              "      display: none;\n",
              "      fill: #1967D2;\n",
              "      height: 32px;\n",
              "      padding: 0 0 0 0;\n",
              "      width: 32px;\n",
              "    }\n",
              "\n",
              "    .colab-df-convert:hover {\n",
              "      background-color: #E2EBFA;\n",
              "      box-shadow: 0px 1px 2px rgba(60, 64, 67, 0.3), 0px 1px 3px 1px rgba(60, 64, 67, 0.15);\n",
              "      fill: #174EA6;\n",
              "    }\n",
              "\n",
              "    [theme=dark] .colab-df-convert {\n",
              "      background-color: #3B4455;\n",
              "      fill: #D2E3FC;\n",
              "    }\n",
              "\n",
              "    [theme=dark] .colab-df-convert:hover {\n",
              "      background-color: #434B5C;\n",
              "      box-shadow: 0px 1px 3px 1px rgba(0, 0, 0, 0.15);\n",
              "      filter: drop-shadow(0px 1px 2px rgba(0, 0, 0, 0.3));\n",
              "      fill: #FFFFFF;\n",
              "    }\n",
              "  </style>\n",
              "\n",
              "      <script>\n",
              "        const buttonEl =\n",
              "          document.querySelector('#df-12ecc85d-f8eb-4183-be1f-1a5284c16c55 button.colab-df-convert');\n",
              "        buttonEl.style.display =\n",
              "          google.colab.kernel.accessAllowed ? 'block' : 'none';\n",
              "\n",
              "        async function convertToInteractive(key) {\n",
              "          const element = document.querySelector('#df-12ecc85d-f8eb-4183-be1f-1a5284c16c55');\n",
              "          const dataTable =\n",
              "            await google.colab.kernel.invokeFunction('convertToInteractive',\n",
              "                                                     [key], {});\n",
              "          if (!dataTable) return;\n",
              "\n",
              "          const docLinkHtml = 'Like what you see? Visit the ' +\n",
              "            '<a target=\"_blank\" href=https://colab.research.google.com/notebooks/data_table.ipynb>data table notebook</a>'\n",
              "            + ' to learn more about interactive tables.';\n",
              "          element.innerHTML = '';\n",
              "          dataTable['output_type'] = 'display_data';\n",
              "          await google.colab.output.renderOutput(dataTable, element);\n",
              "          const docLink = document.createElement('div');\n",
              "          docLink.innerHTML = docLinkHtml;\n",
              "          element.appendChild(docLink);\n",
              "        }\n",
              "      </script>\n",
              "    </div>\n",
              "  </div>\n"
            ]
          },
          "metadata": {},
          "execution_count": 5
        }
      ]
    },
    {
      "cell_type": "markdown",
      "source": [
        "###NeuralNetBinaryClassifier"
      ],
      "metadata": {
        "id": "R_PIn3K58IU-"
      }
    },
    {
      "cell_type": "code",
      "source": [
        "from sklearn.model_selection import train_test_split\n",
        "\n",
        "X_train, X_test, y_train, y_test = train_test_split(X, y, test_size=0.2, random_state=42)"
      ],
      "metadata": {
        "id": "gWH4PXV_rm93"
      },
      "execution_count": 6,
      "outputs": []
    },
    {
      "cell_type": "code",
      "source": [
        "X_test.shape, y_test.shape"
      ],
      "metadata": {
        "colab": {
          "base_uri": "https://localhost:8080/"
        },
        "id": "9hiEghuur9y5",
        "outputId": "67b871bd-2c22-416c-fed3-7c54d55566b1"
      },
      "execution_count": 7,
      "outputs": [
        {
          "output_type": "execute_result",
          "data": {
            "text/plain": [
              "((594, 968), (594,))"
            ]
          },
          "metadata": {},
          "execution_count": 7
        }
      ]
    },
    {
      "cell_type": "code",
      "source": [
        "X_train.shape, y_train.shape"
      ],
      "metadata": {
        "colab": {
          "base_uri": "https://localhost:8080/"
        },
        "id": "ZHBlXoAVtU4K",
        "outputId": "4f785cf2-342c-4d9b-802c-5a29a17de009"
      },
      "execution_count": 8,
      "outputs": [
        {
          "output_type": "execute_result",
          "data": {
            "text/plain": [
              "((2374, 968), (2374,))"
            ]
          },
          "metadata": {},
          "execution_count": 8
        }
      ]
    },
    {
      "cell_type": "code",
      "source": [
        "encoder = LabelEncoder()\n",
        "encoder.fit(y_train)\n",
        "y_train = encoder.transform(y_train)\n",
        "\n",
        "# Convert to 2D PyTorch tensors\n",
        "X_train = torch.tensor(X_train.values, dtype=torch.float32)\n",
        "y_train = torch.tensor(y_train, dtype=torch.float32)"
      ],
      "metadata": {
        "id": "elYqHWxIyyj8"
      },
      "execution_count": 9,
      "outputs": []
    },
    {
      "cell_type": "code",
      "source": [
        "encoder = LabelEncoder()\n",
        "encoder.fit(y_test)\n",
        "y_test = encoder.transform(y_test)\n",
        "\n",
        "# Convert to 2D PyTorch tensors\n",
        "X_test = torch.tensor(X_test.values, dtype=torch.float32)\n",
        "y_test = torch.tensor(y_test, dtype=torch.float32)"
      ],
      "metadata": {
        "id": "LYkLFXtQDPbS"
      },
      "execution_count": 10,
      "outputs": []
    },
    {
      "cell_type": "code",
      "source": [
        "class hERGClassifier(nn.Module):\n",
        "    def __init__(self):\n",
        "        super().__init__()\n",
        "        self.layer1 = nn.Linear(968,968)\n",
        "        self.act1 = nn.ReLU()\n",
        "        self.layer2 = nn.Linear(968, 968)\n",
        "        self.act2 = nn.ReLU()\n",
        "        self.layer3 = nn.Linear(968, 968)\n",
        "        self.act3 = nn.ReLU()\n",
        "        self.output = nn.Linear(968, 1)\n",
        "\n",
        "    def forward(self, x):\n",
        "        x = self.act1(self.layer1(x))\n",
        "        x = self.act2(self.layer2(x))\n",
        "        x = self.act3(self.layer3(x))\n",
        "        x = self.output(x)\n",
        "        return x"
      ],
      "metadata": {
        "id": "Lrxeb-RZy6JF"
      },
      "execution_count": 11,
      "outputs": []
    },
    {
      "cell_type": "code",
      "source": [
        "# create the skorch wrapper\n",
        "model = NeuralNetBinaryClassifier(\n",
        "    hERGClassifier,\n",
        "    criterion=torch.nn.BCEWithLogitsLoss,\n",
        "    optimizer=torch.optim.Adam,\n",
        "    lr=0.0001,\n",
        "    max_epochs=150,\n",
        "    batch_size=10,\n",
        "    verbose=False\n",
        ")"
      ],
      "metadata": {
        "id": "JfzZJ7JTy95U"
      },
      "execution_count": 12,
      "outputs": []
    },
    {
      "cell_type": "markdown",
      "source": [
        "This NeuralNetBinaryClassifier instance is not initialized yet. Call 'initialize' or 'fit'"
      ],
      "metadata": {
        "id": "xZzRthmUxgra"
      }
    },
    {
      "cell_type": "code",
      "source": [
        "model.fit(X_train, y_train)"
      ],
      "metadata": {
        "colab": {
          "base_uri": "https://localhost:8080/"
        },
        "id": "QLg8HeYTE6-k",
        "outputId": "6704456a-e941-4be3-cc0b-f4b911d97713"
      },
      "execution_count": 13,
      "outputs": [
        {
          "output_type": "execute_result",
          "data": {
            "text/plain": [
              "<class 'skorch.classifier.NeuralNetBinaryClassifier'>[initialized](\n",
              "  module_=hERGClassifier(\n",
              "    (layer1): Linear(in_features=968, out_features=968, bias=True)\n",
              "    (act1): ReLU()\n",
              "    (layer2): Linear(in_features=968, out_features=968, bias=True)\n",
              "    (act2): ReLU()\n",
              "    (layer3): Linear(in_features=968, out_features=968, bias=True)\n",
              "    (act3): ReLU()\n",
              "    (output): Linear(in_features=968, out_features=1, bias=True)\n",
              "  ),\n",
              ")"
            ]
          },
          "metadata": {},
          "execution_count": 13
        }
      ]
    },
    {
      "cell_type": "code",
      "source": [
        "model.fit(X_test, y_test)"
      ],
      "metadata": {
        "colab": {
          "base_uri": "https://localhost:8080/"
        },
        "id": "QtFnhZEPzExN",
        "outputId": "4cbe7a20-ca16-45a9-9a35-7ece338c2b27"
      },
      "execution_count": 14,
      "outputs": [
        {
          "output_type": "execute_result",
          "data": {
            "text/plain": [
              "<class 'skorch.classifier.NeuralNetBinaryClassifier'>[initialized](\n",
              "  module_=hERGClassifier(\n",
              "    (layer1): Linear(in_features=968, out_features=968, bias=True)\n",
              "    (act1): ReLU()\n",
              "    (layer2): Linear(in_features=968, out_features=968, bias=True)\n",
              "    (act2): ReLU()\n",
              "    (layer3): Linear(in_features=968, out_features=968, bias=True)\n",
              "    (act3): ReLU()\n",
              "    (output): Linear(in_features=968, out_features=1, bias=True)\n",
              "  ),\n",
              ")"
            ]
          },
          "metadata": {},
          "execution_count": 14
        }
      ]
    },
    {
      "cell_type": "code",
      "source": [
        "y_train_pred = model.predict(X_train)"
      ],
      "metadata": {
        "id": "rXD4JIn8sVi6"
      },
      "execution_count": 15,
      "outputs": []
    },
    {
      "cell_type": "code",
      "source": [
        "y_test_pred = model.predict(X_test)"
      ],
      "metadata": {
        "id": "-34QrOcs5O3r"
      },
      "execution_count": 16,
      "outputs": []
    },
    {
      "cell_type": "code",
      "source": [
        "from sklearn.metrics import matthews_corrcoef"
      ],
      "metadata": {
        "id": "o3MwyFw5sZvL"
      },
      "execution_count": 17,
      "outputs": []
    },
    {
      "cell_type": "code",
      "source": [
        "mcc_train = matthews_corrcoef(y_train, y_train_pred)\n",
        "mcc_train"
      ],
      "metadata": {
        "colab": {
          "base_uri": "https://localhost:8080/"
        },
        "id": "BoNhyN2IscO7",
        "outputId": "84649cee-df41-4e2b-85e2-477a68678a6a"
      },
      "execution_count": 18,
      "outputs": [
        {
          "output_type": "execute_result",
          "data": {
            "text/plain": [
              "0.5515638548191126"
            ]
          },
          "metadata": {},
          "execution_count": 18
        }
      ]
    },
    {
      "cell_type": "code",
      "source": [
        "mcc_test = matthews_corrcoef(y_test, y_test_pred)\n",
        "mcc_test"
      ],
      "metadata": {
        "colab": {
          "base_uri": "https://localhost:8080/"
        },
        "id": "awtjgedutzCj",
        "outputId": "3e6254e1-b5f4-4f76-e840-95ba5551bb7a"
      },
      "execution_count": 19,
      "outputs": [
        {
          "output_type": "execute_result",
          "data": {
            "text/plain": [
              "0.9155426541715558"
            ]
          },
          "metadata": {},
          "execution_count": 19
        }
      ]
    },
    {
      "cell_type": "code",
      "source": [
        "kfold = StratifiedKFold(n_splits=5, shuffle=True)\n",
        "results = cross_val_score(model, X_train, y_train, cv=kfold)\n",
        "print(\"mean = %.3f; std = %.3f\" % (results.mean(), results.std()))"
      ],
      "metadata": {
        "colab": {
          "base_uri": "https://localhost:8080/"
        },
        "id": "q99jl-ZKzCN0",
        "outputId": "77fb0214-3b1d-43e3-cbe2-0b01e80b466a"
      },
      "execution_count": 20,
      "outputs": [
        {
          "output_type": "stream",
          "name": "stdout",
          "text": [
            "mean = 0.870; std = 0.010\n"
          ]
        }
      ]
    },
    {
      "cell_type": "code",
      "source": [
        "kfold = StratifiedKFold(n_splits=5, shuffle=True)\n",
        "results_test = cross_val_score(model, X_test, y_test, cv=kfold)\n",
        "print(\"mean = %.3f; std = %.3f\" % (results_test.mean(), results_test.std()))"
      ],
      "metadata": {
        "colab": {
          "base_uri": "https://localhost:8080/"
        },
        "id": "PK4_cObTFeRD",
        "outputId": "0b46204b-03b2-4de7-bbe4-37cbb6e6fcf1"
      },
      "execution_count": 21,
      "outputs": [
        {
          "output_type": "stream",
          "name": "stdout",
          "text": [
            "mean = 0.808; std = 0.042\n"
          ]
        }
      ]
    },
    {
      "cell_type": "code",
      "source": [
        "\n",
        "from sklearn.metrics import roc_curve, roc_auc_score\n",
        "from sklearn import metrics\n",
        "from sklearn.metrics import roc_curve\n",
        "from sklearn.metrics import auc"
      ],
      "metadata": {
        "id": "2MXtaEKNt-Ok"
      },
      "execution_count": 22,
      "outputs": []
    },
    {
      "cell_type": "code",
      "source": [
        "#prediction probability\n",
        "r_probs_train = [0 for _ in range(len(y_train))]\n",
        "model_probs_train = model.predict_proba(X_train)\n",
        "#nb_probs = nb.predict_proba(X_testscaled)"
      ],
      "metadata": {
        "id": "KHk4TSrGuBlD"
      },
      "execution_count": 23,
      "outputs": []
    },
    {
      "cell_type": "code",
      "source": [
        "model_probs_train = model_probs_train[:, 1]\n",
        "model_probs_train"
      ],
      "metadata": {
        "colab": {
          "base_uri": "https://localhost:8080/"
        },
        "id": "_DlbyLK8uEY0",
        "outputId": "cb35331e-3ccb-4f2c-f51d-9be74d484565"
      },
      "execution_count": 24,
      "outputs": [
        {
          "output_type": "execute_result",
          "data": {
            "text/plain": [
              "array([4.8357242e-11, 1.0000000e+00, 5.9161317e-02, ..., 9.6061909e-01,\n",
              "       1.9790141e-03, 1.0000000e+00], dtype=float32)"
            ]
          },
          "metadata": {},
          "execution_count": 24
        }
      ]
    },
    {
      "cell_type": "code",
      "source": [
        "r_fpr_train, r_tpr_train, _ = roc_curve(y_train, r_probs_train, pos_label=2)\n",
        "model_fpr_train, model_tpr_train, _ = roc_curve(y_train, model_probs_train, pos_label=2)"
      ],
      "metadata": {
        "colab": {
          "base_uri": "https://localhost:8080/"
        },
        "id": "5NgBxhpWuIFv",
        "outputId": "4c1d28e6-9a8f-4028-cdef-be0c82f7896b"
      },
      "execution_count": 25,
      "outputs": [
        {
          "output_type": "stream",
          "name": "stderr",
          "text": [
            "/usr/local/lib/python3.10/dist-packages/sklearn/metrics/_ranking.py:1029: UndefinedMetricWarning: No positive samples in y_true, true positive value should be meaningless\n",
            "  warnings.warn(\n",
            "/usr/local/lib/python3.10/dist-packages/sklearn/metrics/_ranking.py:1029: UndefinedMetricWarning: No positive samples in y_true, true positive value should be meaningless\n",
            "  warnings.warn(\n"
          ]
        }
      ]
    },
    {
      "cell_type": "code",
      "source": [
        "r_auc_train = roc_auc_score(y_train, r_probs_train)\n",
        "model_auc_train = roc_auc_score(y_train, model_probs_train)"
      ],
      "metadata": {
        "id": "v_1rymyZCCrJ"
      },
      "execution_count": 26,
      "outputs": []
    },
    {
      "cell_type": "code",
      "source": [
        "print('NNBinary Classifier Training Data set: ROC Score = %.3f' % (model_auc_train))"
      ],
      "metadata": {
        "colab": {
          "base_uri": "https://localhost:8080/"
        },
        "id": "0F6uuEJCCGXJ",
        "outputId": "e3c190a1-16aa-407f-c2e8-e5a8d218f1f6"
      },
      "execution_count": 27,
      "outputs": [
        {
          "output_type": "stream",
          "name": "stdout",
          "text": [
            "NNBinary Classifier Training Data set: ROC Score = 0.870\n"
          ]
        }
      ]
    },
    {
      "cell_type": "code",
      "source": [
        "#prediction probability\n",
        "r_probs = [0 for _ in range(len(y_test))]\n",
        "model_probs = model.predict_proba(X_test)\n",
        "#nb_probs = nb.predict_proba(X_testscaled)"
      ],
      "metadata": {
        "id": "RUyN4UlZCPgy"
      },
      "execution_count": 28,
      "outputs": []
    },
    {
      "cell_type": "code",
      "source": [
        "\n",
        "model_probs = model_probs[:, 1]\n",
        "model_probs\n",
        ""
      ],
      "metadata": {
        "colab": {
          "base_uri": "https://localhost:8080/"
        },
        "id": "hTniegTjClV5",
        "outputId": "48d01e7c-3f42-423c-9fe2-543c43484581"
      },
      "execution_count": 29,
      "outputs": [
        {
          "output_type": "execute_result",
          "data": {
            "text/plain": [
              "array([1.13405017e-02, 7.33199590e-09, 9.46248770e-01, 9.99999404e-01,\n",
              "       1.00000000e+00, 7.23203275e-10, 9.64195609e-01, 1.00000000e+00,\n",
              "       9.99999881e-01, 1.00000000e+00, 1.00000000e+00, 9.99783337e-01,\n",
              "       5.38725257e-01, 1.48877845e-07, 1.00000000e+00, 4.51997515e-08,\n",
              "       9.88086462e-01, 1.00000000e+00, 1.34796829e-09, 1.00000000e+00,\n",
              "       9.99986768e-01, 1.00000000e+00, 4.27387542e-10, 9.01618819e-07,\n",
              "       1.00000000e+00, 1.00000000e+00, 9.99964595e-01, 2.48940832e-14,\n",
              "       8.06273878e-01, 4.02589530e-01, 1.11734405e-01, 1.00000000e+00,\n",
              "       9.99991417e-01, 9.99954700e-01, 9.46948081e-02, 1.00000000e+00,\n",
              "       9.98970389e-01, 9.99999285e-01, 1.00000000e+00, 9.91309166e-01,\n",
              "       1.23086909e-04, 1.00000000e+00, 8.47572068e-10, 1.00000000e+00,\n",
              "       9.98742878e-01, 5.56003511e-01, 5.29205501e-01, 7.43947506e-01,\n",
              "       3.10859974e-07, 9.99912381e-01, 1.34945662e-06, 9.99998569e-01,\n",
              "       5.39633754e-11, 1.00000000e+00, 9.97992754e-01, 9.99982238e-01,\n",
              "       1.00000000e+00, 1.00000000e+00, 9.14794218e-05, 9.17943656e-01,\n",
              "       9.70611236e-09, 1.00000000e+00, 1.00000000e+00, 1.00000000e+00,\n",
              "       1.00000000e+00, 1.00000000e+00, 7.10299541e-10, 1.00000000e+00,\n",
              "       1.00000000e+00, 4.58705063e-06, 9.99997616e-01, 1.00000000e+00,\n",
              "       1.00000000e+00, 2.80317352e-07, 3.31971080e-07, 1.00000000e+00,\n",
              "       1.00000000e+00, 9.99893308e-01, 9.99987483e-01, 9.99861002e-01,\n",
              "       1.00000000e+00, 3.73060506e-11, 2.06303403e-01, 1.00000000e+00,\n",
              "       1.00000000e+00, 1.00000000e+00, 1.15462775e-07, 2.69680640e-07,\n",
              "       5.09788300e-09, 7.83800941e-11, 1.00000000e+00, 5.28611569e-03,\n",
              "       4.16316539e-02, 1.72211148e-10, 9.99998569e-01, 6.90227032e-01,\n",
              "       9.99999762e-01, 1.37765954e-09, 1.00000000e+00, 3.08272647e-05,\n",
              "       9.61145124e-05, 9.72232521e-01, 1.30952005e-08, 9.99778330e-01,\n",
              "       1.91394633e-09, 1.00000000e+00, 6.49005427e-09, 1.00000000e+00,\n",
              "       6.12337934e-03, 2.55613364e-02, 9.95230317e-01, 9.96547282e-01,\n",
              "       9.99956012e-01, 1.00000000e+00, 7.32105354e-06, 3.37648176e-09,\n",
              "       2.55114794e-01, 9.99999881e-01, 2.76676548e-08, 9.99916315e-01,\n",
              "       1.00000000e+00, 2.51087453e-08, 9.46129978e-01, 7.15555570e-09,\n",
              "       1.00000000e+00, 6.33365242e-03, 9.96390879e-01, 9.98240113e-01,\n",
              "       1.00000000e+00, 1.00000000e+00, 2.91755356e-07, 1.00000000e+00,\n",
              "       5.38617577e-08, 1.00000000e+00, 1.00000000e+00, 1.00000000e+00,\n",
              "       1.00000000e+00, 9.99999285e-01, 6.43645082e-10, 1.00000000e+00,\n",
              "       2.67031083e-07, 8.42162035e-11, 8.05080980e-09, 1.20211414e-08,\n",
              "       9.99999642e-01, 3.99104751e-12, 1.00000000e+00, 1.00000000e+00,\n",
              "       2.24710441e-12, 1.00000000e+00, 1.00000000e+00, 1.15933920e-11,\n",
              "       1.00000000e+00, 1.21662769e-08, 1.00000000e+00, 1.00000000e+00,\n",
              "       8.30222362e-08, 1.00000000e+00, 9.99999762e-01, 1.14378701e-10,\n",
              "       1.00000000e+00, 9.99999881e-01, 9.99999762e-01, 3.77589987e-10,\n",
              "       9.99999881e-01, 1.00000000e+00, 1.00000000e+00, 1.00000000e+00,\n",
              "       1.00000000e+00, 1.00000000e+00, 1.00000000e+00, 1.00000000e+00,\n",
              "       1.00000000e+00, 9.99999881e-01, 2.26895596e-13, 1.00000000e+00,\n",
              "       1.00000000e+00, 9.99999523e-01, 1.00000000e+00, 1.06084620e-11,\n",
              "       4.78474260e-10, 2.25219363e-08, 2.31559877e-15, 1.00000000e+00,\n",
              "       4.78474260e-10, 1.00000000e+00, 4.97769204e-09, 3.99104751e-12,\n",
              "       1.00000000e+00, 1.00000000e+00, 1.00000000e+00, 1.00000000e+00,\n",
              "       3.71203179e-10, 1.00000000e+00, 9.99999523e-01, 6.44249931e-12,\n",
              "       1.00000000e+00, 9.99999762e-01, 9.99999762e-01, 1.00000000e+00,\n",
              "       9.99999762e-01, 9.99999642e-01, 1.00000000e+00, 1.00000000e+00,\n",
              "       3.64873930e-12, 9.99999046e-01, 1.00000000e+00, 3.44735296e-10,\n",
              "       9.59540156e-11, 1.00000000e+00, 1.00000000e+00, 1.00000000e+00,\n",
              "       3.48989920e-10, 1.00000000e+00, 1.00000000e+00, 1.00000000e+00,\n",
              "       1.00000000e+00, 1.00000000e+00, 1.00000000e+00, 7.84243213e-08,\n",
              "       1.00000000e+00, 7.33199590e-09, 1.00000000e+00, 1.00000000e+00,\n",
              "       1.00000000e+00, 1.53384097e-10, 9.99999404e-01, 1.00000000e+00,\n",
              "       1.00000000e+00, 1.00000000e+00, 1.31902000e-09, 3.55819992e-11,\n",
              "       1.00000000e+00, 4.53423127e-07, 1.00000000e+00, 1.00000000e+00,\n",
              "       1.00000000e+00, 9.99999285e-01, 1.00000000e+00, 1.00000000e+00,\n",
              "       1.00000000e+00, 9.99999881e-01, 1.58724006e-10, 1.00000000e+00,\n",
              "       1.00000000e+00, 9.99999881e-01, 1.00000000e+00, 1.19511307e-13,\n",
              "       1.00000000e+00, 1.00000000e+00, 2.06356194e-08, 1.00000000e+00,\n",
              "       1.34231435e-08, 3.38180550e-09, 3.84375598e-09, 1.00000000e+00,\n",
              "       1.00000000e+00, 1.23245600e-08, 9.99999642e-01, 1.00000000e+00,\n",
              "       3.37246030e-12, 9.99999881e-01, 9.99999881e-01, 1.00000000e+00,\n",
              "       1.00000000e+00, 9.99998808e-01, 1.00000000e+00, 2.90064171e-11,\n",
              "       1.00000000e+00, 9.99999881e-01, 1.00000000e+00, 1.00000000e+00,\n",
              "       9.99999523e-01, 9.16337910e-07, 1.00000000e+00, 1.79424955e-08,\n",
              "       1.00000000e+00, 1.00000000e+00, 1.00000000e+00, 9.99985456e-01,\n",
              "       1.00000000e+00, 9.99999881e-01, 1.00000000e+00, 1.48801348e-07,\n",
              "       1.00000000e+00, 1.00000000e+00, 4.13851694e-07, 1.00000000e+00,\n",
              "       1.00000000e+00, 1.00000000e+00, 1.00000000e+00, 9.99999881e-01,\n",
              "       5.96411143e-09, 9.99999046e-01, 1.00000000e+00, 1.00000000e+00,\n",
              "       3.14797894e-08, 1.00000000e+00, 3.84092713e-09, 1.57963226e-10,\n",
              "       2.62363624e-08, 1.77286221e-08, 4.84278728e-10, 1.00000000e+00,\n",
              "       1.00000000e+00, 9.99992609e-01, 1.07002137e-07, 1.00000000e+00,\n",
              "       1.00000000e+00, 9.99999762e-01, 1.00000000e+00, 1.00000000e+00,\n",
              "       3.21211893e-08, 1.00000000e+00, 1.00000000e+00, 1.00000000e+00,\n",
              "       5.23340649e-10, 1.00000000e+00, 1.84406872e-08, 1.00000000e+00,\n",
              "       1.00000000e+00, 1.00000000e+00, 1.00000000e+00, 2.00648997e-10,\n",
              "       1.00000000e+00, 9.99999881e-01, 1.34277550e-15, 1.00000000e+00,\n",
              "       7.42888915e-07, 1.00000000e+00, 1.00000000e+00, 1.34277550e-15,\n",
              "       9.99999881e-01, 9.99999285e-01, 2.48940832e-14, 1.00000000e+00,\n",
              "       1.00000000e+00, 7.58763885e-10, 1.00000000e+00, 2.35323751e-13,\n",
              "       1.00000000e+00, 1.00000000e+00, 1.00000000e+00, 6.53915038e-08,\n",
              "       1.00000000e+00, 1.00000000e+00, 9.99999881e-01, 8.24141089e-10,\n",
              "       1.00000000e+00, 7.23203275e-10, 1.00000000e+00, 2.79148278e-08,\n",
              "       9.49355611e-13, 6.81863810e-09, 1.00000000e+00, 9.85352355e-10,\n",
              "       1.00000000e+00, 1.00000000e+00, 6.19056412e-12, 1.00000000e+00,\n",
              "       1.61791047e-09, 1.00000000e+00, 1.00000000e+00, 2.79234337e-06,\n",
              "       9.99999881e-01, 1.00000000e+00, 9.99999881e-01, 9.99998569e-01,\n",
              "       1.23850624e-10, 1.00000000e+00, 1.00000000e+00, 1.00000000e+00,\n",
              "       1.00000000e+00, 1.00000000e+00, 1.00000000e+00, 9.99999642e-01,\n",
              "       3.31093292e-10, 5.34586864e-09, 1.00000000e+00, 2.41461379e-07,\n",
              "       3.40464523e-09, 2.14658864e-11, 1.40723166e-09, 2.31559877e-15,\n",
              "       1.00000000e+00, 1.00000000e+00, 9.99999285e-01, 9.99999642e-01,\n",
              "       1.00000000e+00, 1.00000000e+00, 2.47746845e-09, 8.55642848e-11,\n",
              "       6.04573613e-10, 9.99998212e-01, 3.53446287e-12, 5.18673327e-09,\n",
              "       5.83745168e-06, 5.42872580e-10, 2.12400437e-06, 1.00000000e+00,\n",
              "       1.00000000e+00, 7.33199590e-09, 1.00000000e+00, 1.00000000e+00,\n",
              "       1.00000000e+00, 1.00000000e+00, 8.59144933e-09, 1.00000000e+00,\n",
              "       9.99999881e-01, 9.99999285e-01, 1.00000000e+00, 5.34586864e-09,\n",
              "       1.00000000e+00, 2.84299176e-07, 1.18948540e-08, 1.00000000e+00,\n",
              "       9.99999881e-01, 1.00000000e+00, 1.00000000e+00, 1.00000000e+00,\n",
              "       1.00000000e+00, 6.76153022e-11, 1.81731796e-09, 1.70659451e-08,\n",
              "       1.23836106e-08, 1.00000000e+00, 1.00000000e+00, 8.30947200e-10,\n",
              "       9.97667393e-10, 5.18394615e-12, 9.99999881e-01, 1.00000000e+00,\n",
              "       5.44113618e-06, 2.22390923e-08, 1.01756970e-09, 2.98169714e-12,\n",
              "       1.00000000e+00, 1.07563271e-10, 1.00000000e+00, 9.29800514e-10,\n",
              "       1.00000000e+00, 4.76068518e-09, 1.00000000e+00, 1.00000000e+00,\n",
              "       1.62039060e-09, 2.97829139e-09, 1.00000000e+00, 9.99999762e-01,\n",
              "       1.65425063e-10, 3.99873051e-11, 9.03626542e-08, 7.89410279e-08,\n",
              "       1.00000000e+00, 9.99999881e-01, 1.00000000e+00, 2.48029778e-07,\n",
              "       9.99999881e-01, 4.36661081e-12, 1.40354395e-08, 3.64497499e-09,\n",
              "       1.00000000e+00, 1.00000000e+00, 1.00000000e+00, 1.00000000e+00,\n",
              "       7.14073849e-08, 1.50878691e-12, 1.00000000e+00, 1.00000000e+00,\n",
              "       1.00000000e+00, 1.00000000e+00, 1.00000000e+00, 9.99998689e-01,\n",
              "       1.00000000e+00, 2.23923493e-07, 1.16365371e-07, 1.00000000e+00,\n",
              "       1.00000000e+00, 1.00000000e+00, 1.00000000e+00, 2.38175559e-07,\n",
              "       1.00000000e+00, 5.46350861e-07, 1.00000000e+00, 4.35425207e-08,\n",
              "       1.34189442e-08, 1.00000000e+00, 1.00000000e+00, 1.00000000e+00,\n",
              "       1.00000000e+00, 3.22840776e-08, 2.70321539e-06, 1.00000000e+00,\n",
              "       1.00000000e+00, 1.00000000e+00, 4.42587691e-08, 1.00000000e+00,\n",
              "       2.95158906e-12, 9.99999523e-01, 1.00000000e+00, 1.00000000e+00,\n",
              "       1.00000000e+00, 1.00000000e+00, 1.00000000e+00, 1.00000000e+00,\n",
              "       1.00000000e+00, 9.99999881e-01, 1.00000000e+00, 1.00000000e+00,\n",
              "       1.00000000e+00, 1.00000000e+00, 1.00000000e+00, 4.15645758e-08,\n",
              "       1.00000000e+00, 1.00000000e+00, 1.00000000e+00, 7.58478080e-08,\n",
              "       1.59364151e-06, 1.00000000e+00, 1.00000000e+00, 1.00000000e+00,\n",
              "       9.06805084e-08, 1.00000000e+00, 1.00000000e+00, 4.52982679e-10,\n",
              "       2.28073609e-13, 1.00000000e+00, 1.00000000e+00, 3.00566001e-07,\n",
              "       9.99994159e-01, 1.00000000e+00, 1.00000000e+00, 4.15592751e-07,\n",
              "       6.16151531e-12, 1.00000000e+00, 1.00000000e+00, 1.00000000e+00,\n",
              "       1.00000000e+00, 9.99999881e-01, 1.00000000e+00, 1.00000000e+00,\n",
              "       1.00000000e+00, 1.00000000e+00, 1.00000000e+00, 1.00000000e+00,\n",
              "       3.20809107e-07, 1.00000000e+00, 8.70414141e-08, 1.00000000e+00,\n",
              "       1.00000000e+00, 1.07563271e-10, 1.00000000e+00, 1.00000000e+00,\n",
              "       1.00000000e+00, 3.14797894e-08, 1.00000000e+00, 1.00000000e+00,\n",
              "       1.00000000e+00, 9.99999523e-01, 3.84252075e-11, 6.81089460e-08,\n",
              "       1.49811029e-07, 1.00000000e+00, 1.00000000e+00, 1.00000000e+00,\n",
              "       1.00000000e+00, 1.31438674e-06, 9.99999762e-01, 2.96295521e-08,\n",
              "       1.30246769e-06, 9.99999881e-01, 9.99999881e-01, 2.13116351e-07,\n",
              "       1.00000000e+00, 1.00000000e+00, 9.99999881e-01, 7.85225112e-08,\n",
              "       9.21780785e-09, 1.00000000e+00, 1.00000000e+00, 1.82694464e-07,\n",
              "       1.00000000e+00, 3.94443805e-06, 1.62009464e-08, 4.96917636e-08,\n",
              "       9.99998450e-01, 2.48940832e-14, 1.00000000e+00, 9.99999762e-01,\n",
              "       1.00000000e+00, 1.56585305e-08, 1.00000000e+00, 2.57924366e-08,\n",
              "       1.00000000e+00, 1.00000000e+00], dtype=float32)"
            ]
          },
          "metadata": {},
          "execution_count": 29
        }
      ]
    },
    {
      "cell_type": "code",
      "source": [
        "r_fpr, r_tpr, _ = roc_curve(y_test, r_probs, pos_label=2)\n",
        "model_fpr, model_tpr, _ = roc_curve(y_test, model_probs, pos_label=2)"
      ],
      "metadata": {
        "colab": {
          "base_uri": "https://localhost:8080/"
        },
        "id": "cqvxAYfCCpuR",
        "outputId": "65f6d37a-c692-4d37-b791-8c2254ddecf9"
      },
      "execution_count": 30,
      "outputs": [
        {
          "output_type": "stream",
          "name": "stderr",
          "text": [
            "/usr/local/lib/python3.10/dist-packages/sklearn/metrics/_ranking.py:1029: UndefinedMetricWarning: No positive samples in y_true, true positive value should be meaningless\n",
            "  warnings.warn(\n",
            "/usr/local/lib/python3.10/dist-packages/sklearn/metrics/_ranking.py:1029: UndefinedMetricWarning: No positive samples in y_true, true positive value should be meaningless\n",
            "  warnings.warn(\n"
          ]
        }
      ]
    },
    {
      "cell_type": "code",
      "source": [
        "r_auc = roc_auc_score(y_test, r_probs)\n",
        "model_auc = roc_auc_score(y_test, model_probs)"
      ],
      "metadata": {
        "id": "BC73i8J3CsHB"
      },
      "execution_count": 31,
      "outputs": []
    },
    {
      "cell_type": "code",
      "source": [
        "print('NNBinary Classifier Testing Data set: ROC Score = %.3f' % (model_auc_train))"
      ],
      "metadata": {
        "colab": {
          "base_uri": "https://localhost:8080/"
        },
        "id": "DaAsx1FDEzKV",
        "outputId": "78ac3b50-0bbe-44ca-9386-3ad137f1b998"
      },
      "execution_count": 32,
      "outputs": [
        {
          "output_type": "stream",
          "name": "stdout",
          "text": [
            "NNBinary Classifier Testing Data set: ROC Score = 0.870\n"
          ]
        }
      ]
    },
    {
      "cell_type": "markdown",
      "source": [
        "\"model.predict\" refers to a method in machine learning where a trained model is used to make predictions on new data. The \"model\" refers to the machine learning algorithm that has been trained on a dataset, and \"predict\" is the function used to make predictions on new data. In order to use this method, the input data must be preprocessed in the same way as the training data, and the output of the prediction will depend on the type of model being used (e.g. regression for continuous output, classification for categorical output)."
      ],
      "metadata": {
        "id": "_6GcrZ9E9vEE"
      }
    },
    {
      "cell_type": "markdown",
      "source": [
        "method called \"predict_proba\" in a machine learning model. \"predict_proba\" is a method used to predict the probability of a certain outcome or class in a classification problem. It is commonly used in supervised learning algorithms such as logistic regression, decision trees, and random forests. The output of this method is a probability score between 0 and 1 for each class, indicating the likelihood of the input belonging to that class."
      ],
      "metadata": {
        "id": "x-pJ5CLd92ni"
      }
    }
  ]
}