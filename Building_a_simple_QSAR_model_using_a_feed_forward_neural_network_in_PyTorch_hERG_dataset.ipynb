{
  "nbformat": 4,
  "nbformat_minor": 0,
  "metadata": {
    "colab": {
      "provenance": [],
      "gpuType": "T4",
      "authorship_tag": "ABX9TyProaCCt29iFLaJBpFbr5Av",
      "include_colab_link": true
    },
    "kernelspec": {
      "name": "python3",
      "display_name": "Python 3"
    },
    "language_info": {
      "name": "python"
    },
    "accelerator": "GPU"
  },
  "cells": [
    {
      "cell_type": "markdown",
      "metadata": {
        "id": "view-in-github",
        "colab_type": "text"
      },
      "source": [
        "<a href=\"https://colab.research.google.com/github/Jahan08/Advanced-AI-algorithm-practice-hERG-data/blob/main/Building_a_simple_QSAR_model_using_a_feed_forward_neural_network_in_PyTorch_hERG_dataset.ipynb\" target=\"_parent\"><img src=\"https://colab.research.google.com/assets/colab-badge.svg\" alt=\"Open In Colab\"/></a>"
      ]
    },
    {
      "cell_type": "code",
      "source": [
        "!pip install rdkit"
      ],
      "metadata": {
        "colab": {
          "base_uri": "https://localhost:8080/"
        },
        "id": "qS0fRlEQ8uUZ",
        "outputId": "87fbdd44-c347-4569-8711-546ef2870f32"
      },
      "execution_count": null,
      "outputs": [
        {
          "output_type": "stream",
          "name": "stdout",
          "text": [
            "Collecting rdkit\n",
            "  Downloading rdkit-2023.3.3-cp310-cp310-manylinux_2_17_x86_64.manylinux2014_x86_64.whl (29.7 MB)\n",
            "\u001b[2K     \u001b[90m━━━━━━━━━━━━━━━━━━━━━━━━━━━━━━━━━━━━━━━━\u001b[0m \u001b[32m29.7/29.7 MB\u001b[0m \u001b[31m30.5 MB/s\u001b[0m eta \u001b[36m0:00:00\u001b[0m\n",
            "\u001b[?25hRequirement already satisfied: numpy in /usr/local/lib/python3.10/dist-packages (from rdkit) (1.23.5)\n",
            "Requirement already satisfied: Pillow in /usr/local/lib/python3.10/dist-packages (from rdkit) (9.4.0)\n",
            "Installing collected packages: rdkit\n",
            "Successfully installed rdkit-2023.3.3\n"
          ]
        }
      ]
    },
    {
      "cell_type": "code",
      "execution_count": null,
      "metadata": {
        "id": "Fg_mE-J78Q-q"
      },
      "outputs": [],
      "source": [
        "import numpy as np\n",
        "import pandas as pd\n",
        "import matplotlib.pyplot as plt\n",
        "from rdkit import Chem, DataStructs\n",
        "from rdkit.Chem import PandasTools, AllChem\n",
        "from sklearn.preprocessing import StandardScaler\n",
        "from sklearn.model_selection import train_test_split\n",
        "import torch\n",
        "import torch.nn as nn\n",
        "from torch.utils.data import Dataset\n",
        "from torch.optim.lr_scheduler import ReduceLROnPlateau"
      ]
    },
    {
      "cell_type": "code",
      "source": [
        "!git clone https://github.com/EBjerrum/molvecgen.git"
      ],
      "metadata": {
        "colab": {
          "base_uri": "https://localhost:8080/"
        },
        "id": "QVpZNDpa9VM5",
        "outputId": "711bae43-8b42-4d20-ae60-86d52c3d8b8f"
      },
      "execution_count": null,
      "outputs": [
        {
          "output_type": "stream",
          "name": "stdout",
          "text": [
            "Cloning into 'molvecgen'...\n",
            "remote: Enumerating objects: 63, done.\u001b[K\n",
            "remote: Counting objects: 100% (21/21), done.\u001b[K\n",
            "remote: Compressing objects: 100% (20/20), done.\u001b[K\n",
            "remote: Total 63 (delta 7), reused 7 (delta 1), pack-reused 42\u001b[K\n",
            "Receiving objects: 100% (63/63), 264.82 KiB | 3.23 MiB/s, done.\n",
            "Resolving deltas: 100% (25/25), done.\n"
          ]
        }
      ]
    },
    {
      "cell_type": "code",
      "source": [
        "%cd molvecgen"
      ],
      "metadata": {
        "colab": {
          "base_uri": "https://localhost:8080/"
        },
        "id": "pgbjWD439elC",
        "outputId": "2dcbab45-58d3-473e-afc6-86b6a0665201"
      },
      "execution_count": null,
      "outputs": [
        {
          "output_type": "stream",
          "name": "stdout",
          "text": [
            "/content/molvecgen\n"
          ]
        }
      ]
    },
    {
      "cell_type": "markdown",
      "source": [
        " **MolVecGen package** to vectorize the SMILES. The package was originally written to work with Keras generators during training. However, generators can no longer be used in Keras, but the vectorization class that converts SMILES into one-hot encoded tensors can easily be adapted to work with PyTorch. The package can be used after cloning the github repository and installed with “python setup.py install” in your Python environment (e.g. Conda or virtualenv)."
      ],
      "metadata": {
        "id": "EMGp5UvO9v9b"
      }
    },
    {
      "cell_type": "code",
      "source": [
        "!python setup.py install"
      ],
      "metadata": {
        "colab": {
          "base_uri": "https://localhost:8080/"
        },
        "id": "ukufPXcW9hBL",
        "outputId": "a6ede054-19a0-419a-d4e1-114eaa450065"
      },
      "execution_count": null,
      "outputs": [
        {
          "output_type": "stream",
          "name": "stdout",
          "text": [
            "running install\n",
            "/usr/local/lib/python3.10/dist-packages/setuptools/_distutils/cmd.py:66: SetuptoolsDeprecationWarning: setup.py install is deprecated.\n",
            "!!\n",
            "\n",
            "        ********************************************************************************\n",
            "        Please avoid running ``setup.py`` directly.\n",
            "        Instead, use pypa/build, pypa/installer, pypa/build or\n",
            "        other standards-based tools.\n",
            "\n",
            "        See https://blog.ganssle.io/articles/2021/10/setup-py-deprecated.html for details.\n",
            "        ********************************************************************************\n",
            "\n",
            "!!\n",
            "  self.initialize_options()\n",
            "/usr/local/lib/python3.10/dist-packages/setuptools/_distutils/cmd.py:66: EasyInstallDeprecationWarning: easy_install command is deprecated.\n",
            "!!\n",
            "\n",
            "        ********************************************************************************\n",
            "        Please avoid running ``setup.py`` and ``easy_install``.\n",
            "        Instead, use pypa/build, pypa/installer, pypa/build or\n",
            "        other standards-based tools.\n",
            "\n",
            "        See https://github.com/pypa/setuptools/issues/917 for details.\n",
            "        ********************************************************************************\n",
            "\n",
            "!!\n",
            "  self.initialize_options()\n",
            "running bdist_egg\n",
            "running egg_info\n",
            "creating molvecgen.egg-info\n",
            "writing molvecgen.egg-info/PKG-INFO\n",
            "writing dependency_links to molvecgen.egg-info/dependency_links.txt\n",
            "writing requirements to molvecgen.egg-info/requires.txt\n",
            "writing top-level names to molvecgen.egg-info/top_level.txt\n",
            "writing manifest file 'molvecgen.egg-info/SOURCES.txt'\n",
            "reading manifest file 'molvecgen.egg-info/SOURCES.txt'\n",
            "adding license file 'LICENSE'\n",
            "writing manifest file 'molvecgen.egg-info/SOURCES.txt'\n",
            "installing library code to build/bdist.linux-x86_64/egg\n",
            "running install_lib\n",
            "running build_py\n",
            "creating build\n",
            "creating build/lib\n",
            "creating build/lib/molvecgen\n",
            "copying molvecgen/__init__.py -> build/lib/molvecgen\n",
            "copying molvecgen/vectorizers.py -> build/lib/molvecgen\n",
            "copying molvecgen/generators.py -> build/lib/molvecgen\n",
            "creating build/bdist.linux-x86_64\n",
            "creating build/bdist.linux-x86_64/egg\n",
            "creating build/bdist.linux-x86_64/egg/molvecgen\n",
            "copying build/lib/molvecgen/__init__.py -> build/bdist.linux-x86_64/egg/molvecgen\n",
            "copying build/lib/molvecgen/vectorizers.py -> build/bdist.linux-x86_64/egg/molvecgen\n",
            "copying build/lib/molvecgen/generators.py -> build/bdist.linux-x86_64/egg/molvecgen\n",
            "byte-compiling build/bdist.linux-x86_64/egg/molvecgen/__init__.py to __init__.cpython-310.pyc\n",
            "byte-compiling build/bdist.linux-x86_64/egg/molvecgen/vectorizers.py to vectorizers.cpython-310.pyc\n",
            "byte-compiling build/bdist.linux-x86_64/egg/molvecgen/generators.py to generators.cpython-310.pyc\n",
            "creating build/bdist.linux-x86_64/egg/EGG-INFO\n",
            "copying molvecgen.egg-info/PKG-INFO -> build/bdist.linux-x86_64/egg/EGG-INFO\n",
            "copying molvecgen.egg-info/SOURCES.txt -> build/bdist.linux-x86_64/egg/EGG-INFO\n",
            "copying molvecgen.egg-info/dependency_links.txt -> build/bdist.linux-x86_64/egg/EGG-INFO\n",
            "copying molvecgen.egg-info/not-zip-safe -> build/bdist.linux-x86_64/egg/EGG-INFO\n",
            "copying molvecgen.egg-info/requires.txt -> build/bdist.linux-x86_64/egg/EGG-INFO\n",
            "copying molvecgen.egg-info/top_level.txt -> build/bdist.linux-x86_64/egg/EGG-INFO\n",
            "creating dist\n",
            "creating 'dist/molvecgen-0.1-py3.10.egg' and adding 'build/bdist.linux-x86_64/egg' to it\n",
            "removing 'build/bdist.linux-x86_64/egg' (and everything under it)\n",
            "Processing molvecgen-0.1-py3.10.egg\n",
            "creating /usr/local/lib/python3.10/dist-packages/molvecgen-0.1-py3.10.egg\n",
            "Extracting molvecgen-0.1-py3.10.egg to /usr/local/lib/python3.10/dist-packages\n",
            "Adding molvecgen 0.1 to easy-install.pth file\n",
            "\n",
            "Installed /usr/local/lib/python3.10/dist-packages/molvecgen-0.1-py3.10.egg\n",
            "Processing dependencies for molvecgen==0.1\n",
            "Searching for numpy==1.23.5\n",
            "Best match: numpy 1.23.5\n",
            "Adding numpy 1.23.5 to easy-install.pth file\n",
            "Installing f2py script to /usr/local/bin\n",
            "Installing f2py3 script to /usr/local/bin\n",
            "Installing f2py3.10 script to /usr/local/bin\n",
            "\n",
            "Using /usr/local/lib/python3.10/dist-packages\n",
            "Finished processing dependencies for molvecgen==0.1\n"
          ]
        }
      ]
    },
    {
      "cell_type": "code",
      "source": [
        "data = pd.read_csv(\"/content/hERG_bioactivity_pIC50.csv\")\n",
        "data.head(1)"
      ],
      "metadata": {
        "colab": {
          "base_uri": "https://localhost:8080/",
          "height": 81
        },
        "id": "gH_J_4_L9sIT",
        "outputId": "408e5ccf-9074-4464-9c71-c1fc1344adc8"
      },
      "execution_count": null,
      "outputs": [
        {
          "output_type": "execute_result",
          "data": {
            "text/plain": [
              "  assay_chembl_id                   assay_description  \\\n",
              "0    CHEMBL841079  Inhibition of hERG currents Kv11.1   \n",
              "\n",
              "                                    canonical_smiles      Source         Name  \\\n",
              "0  O=C1NCCN1CCN1CCC(c2cn(-c3ccc(F)cc3)c3ccc(Cl)cc...  J Med Chem  CHEMBL12713   \n",
              "\n",
              "   hERG_uM Activity     pIC50  hERG_Activity  \n",
              "0    0.014      Yes  7.853872              1  "
            ],
            "text/html": [
              "\n",
              "  <div id=\"df-1043a358-db20-4940-b0c5-965276a80f1e\" class=\"colab-df-container\">\n",
              "    <div>\n",
              "<style scoped>\n",
              "    .dataframe tbody tr th:only-of-type {\n",
              "        vertical-align: middle;\n",
              "    }\n",
              "\n",
              "    .dataframe tbody tr th {\n",
              "        vertical-align: top;\n",
              "    }\n",
              "\n",
              "    .dataframe thead th {\n",
              "        text-align: right;\n",
              "    }\n",
              "</style>\n",
              "<table border=\"1\" class=\"dataframe\">\n",
              "  <thead>\n",
              "    <tr style=\"text-align: right;\">\n",
              "      <th></th>\n",
              "      <th>assay_chembl_id</th>\n",
              "      <th>assay_description</th>\n",
              "      <th>canonical_smiles</th>\n",
              "      <th>Source</th>\n",
              "      <th>Name</th>\n",
              "      <th>hERG_uM</th>\n",
              "      <th>Activity</th>\n",
              "      <th>pIC50</th>\n",
              "      <th>hERG_Activity</th>\n",
              "    </tr>\n",
              "  </thead>\n",
              "  <tbody>\n",
              "    <tr>\n",
              "      <th>0</th>\n",
              "      <td>CHEMBL841079</td>\n",
              "      <td>Inhibition of hERG currents Kv11.1</td>\n",
              "      <td>O=C1NCCN1CCN1CCC(c2cn(-c3ccc(F)cc3)c3ccc(Cl)cc...</td>\n",
              "      <td>J Med Chem</td>\n",
              "      <td>CHEMBL12713</td>\n",
              "      <td>0.014</td>\n",
              "      <td>Yes</td>\n",
              "      <td>7.853872</td>\n",
              "      <td>1</td>\n",
              "    </tr>\n",
              "  </tbody>\n",
              "</table>\n",
              "</div>\n",
              "    <div class=\"colab-df-buttons\">\n",
              "\n",
              "  <div class=\"colab-df-container\">\n",
              "    <button class=\"colab-df-convert\" onclick=\"convertToInteractive('df-1043a358-db20-4940-b0c5-965276a80f1e')\"\n",
              "            title=\"Convert this dataframe to an interactive table.\"\n",
              "            style=\"display:none;\">\n",
              "\n",
              "  <svg xmlns=\"http://www.w3.org/2000/svg\" height=\"24px\" viewBox=\"0 -960 960 960\">\n",
              "    <path d=\"M120-120v-720h720v720H120Zm60-500h600v-160H180v160Zm220 220h160v-160H400v160Zm0 220h160v-160H400v160ZM180-400h160v-160H180v160Zm440 0h160v-160H620v160ZM180-180h160v-160H180v160Zm440 0h160v-160H620v160Z\"/>\n",
              "  </svg>\n",
              "    </button>\n",
              "\n",
              "  <style>\n",
              "    .colab-df-container {\n",
              "      display:flex;\n",
              "      gap: 12px;\n",
              "    }\n",
              "\n",
              "    .colab-df-convert {\n",
              "      background-color: #E8F0FE;\n",
              "      border: none;\n",
              "      border-radius: 50%;\n",
              "      cursor: pointer;\n",
              "      display: none;\n",
              "      fill: #1967D2;\n",
              "      height: 32px;\n",
              "      padding: 0 0 0 0;\n",
              "      width: 32px;\n",
              "    }\n",
              "\n",
              "    .colab-df-convert:hover {\n",
              "      background-color: #E2EBFA;\n",
              "      box-shadow: 0px 1px 2px rgba(60, 64, 67, 0.3), 0px 1px 3px 1px rgba(60, 64, 67, 0.15);\n",
              "      fill: #174EA6;\n",
              "    }\n",
              "\n",
              "    .colab-df-buttons div {\n",
              "      margin-bottom: 4px;\n",
              "    }\n",
              "\n",
              "    [theme=dark] .colab-df-convert {\n",
              "      background-color: #3B4455;\n",
              "      fill: #D2E3FC;\n",
              "    }\n",
              "\n",
              "    [theme=dark] .colab-df-convert:hover {\n",
              "      background-color: #434B5C;\n",
              "      box-shadow: 0px 1px 3px 1px rgba(0, 0, 0, 0.15);\n",
              "      filter: drop-shadow(0px 1px 2px rgba(0, 0, 0, 0.3));\n",
              "      fill: #FFFFFF;\n",
              "    }\n",
              "  </style>\n",
              "\n",
              "    <script>\n",
              "      const buttonEl =\n",
              "        document.querySelector('#df-1043a358-db20-4940-b0c5-965276a80f1e button.colab-df-convert');\n",
              "      buttonEl.style.display =\n",
              "        google.colab.kernel.accessAllowed ? 'block' : 'none';\n",
              "\n",
              "      async function convertToInteractive(key) {\n",
              "        const element = document.querySelector('#df-1043a358-db20-4940-b0c5-965276a80f1e');\n",
              "        const dataTable =\n",
              "          await google.colab.kernel.invokeFunction('convertToInteractive',\n",
              "                                                    [key], {});\n",
              "        if (!dataTable) return;\n",
              "\n",
              "        const docLinkHtml = 'Like what you see? Visit the ' +\n",
              "          '<a target=\"_blank\" href=https://colab.research.google.com/notebooks/data_table.ipynb>data table notebook</a>'\n",
              "          + ' to learn more about interactive tables.';\n",
              "        element.innerHTML = '';\n",
              "        dataTable['output_type'] = 'display_data';\n",
              "        await google.colab.output.renderOutput(dataTable, element);\n",
              "        const docLink = document.createElement('div');\n",
              "        docLink.innerHTML = docLinkHtml;\n",
              "        element.appendChild(docLink);\n",
              "      }\n",
              "    </script>\n",
              "  </div>\n",
              "\n",
              "    </div>\n",
              "  </div>\n"
            ]
          },
          "metadata": {},
          "execution_count": 6
        }
      ]
    },
    {
      "cell_type": "code",
      "source": [
        "PandasTools.AddMoleculeColumnToFrame(data,'canonical_smiles','Molecule')\n",
        "data[[\"canonical_smiles\",\"Molecule\"]].head(1)"
      ],
      "metadata": {
        "colab": {
          "base_uri": "https://localhost:8080/",
          "height": 81
        },
        "id": "OKcNRizV-uX3",
        "outputId": "afcf7fd9-485f-425f-a633-43bde8d4ceb8"
      },
      "execution_count": null,
      "outputs": [
        {
          "output_type": "execute_result",
          "data": {
            "text/plain": [
              "                                    canonical_smiles  \\\n",
              "0  O=C1NCCN1CCN1CCC(c2cn(-c3ccc(F)cc3)c3ccc(Cl)cc...   \n",
              "\n",
              "                                           Molecule  \n",
              "0  <rdkit.Chem.rdchem.Mol object at 0x7c44bf168e40>  "
            ],
            "text/html": [
              "\n",
              "  <div id=\"df-fd29e740-5c95-42a5-b892-2edd6b684ec1\" class=\"colab-df-container\">\n",
              "    <div>\n",
              "<style scoped>\n",
              "    .dataframe tbody tr th:only-of-type {\n",
              "        vertical-align: middle;\n",
              "    }\n",
              "\n",
              "    .dataframe tbody tr th {\n",
              "        vertical-align: top;\n",
              "    }\n",
              "\n",
              "    .dataframe thead th {\n",
              "        text-align: right;\n",
              "    }\n",
              "</style>\n",
              "<table border=\"1\" class=\"dataframe\">\n",
              "  <thead>\n",
              "    <tr style=\"text-align: right;\">\n",
              "      <th></th>\n",
              "      <th>canonical_smiles</th>\n",
              "      <th>Molecule</th>\n",
              "    </tr>\n",
              "  </thead>\n",
              "  <tbody>\n",
              "    <tr>\n",
              "      <th>0</th>\n",
              "      <td>O=C1NCCN1CCN1CCC(c2cn(-c3ccc(F)cc3)c3ccc(Cl)cc...</td>\n",
              "      <td>&lt;rdkit.Chem.rdchem.Mol object at 0x7c44bf168e40&gt;</td>\n",
              "    </tr>\n",
              "  </tbody>\n",
              "</table>\n",
              "</div>\n",
              "    <div class=\"colab-df-buttons\">\n",
              "\n",
              "  <div class=\"colab-df-container\">\n",
              "    <button class=\"colab-df-convert\" onclick=\"convertToInteractive('df-fd29e740-5c95-42a5-b892-2edd6b684ec1')\"\n",
              "            title=\"Convert this dataframe to an interactive table.\"\n",
              "            style=\"display:none;\">\n",
              "\n",
              "  <svg xmlns=\"http://www.w3.org/2000/svg\" height=\"24px\" viewBox=\"0 -960 960 960\">\n",
              "    <path d=\"M120-120v-720h720v720H120Zm60-500h600v-160H180v160Zm220 220h160v-160H400v160Zm0 220h160v-160H400v160ZM180-400h160v-160H180v160Zm440 0h160v-160H620v160ZM180-180h160v-160H180v160Zm440 0h160v-160H620v160Z\"/>\n",
              "  </svg>\n",
              "    </button>\n",
              "\n",
              "  <style>\n",
              "    .colab-df-container {\n",
              "      display:flex;\n",
              "      gap: 12px;\n",
              "    }\n",
              "\n",
              "    .colab-df-convert {\n",
              "      background-color: #E8F0FE;\n",
              "      border: none;\n",
              "      border-radius: 50%;\n",
              "      cursor: pointer;\n",
              "      display: none;\n",
              "      fill: #1967D2;\n",
              "      height: 32px;\n",
              "      padding: 0 0 0 0;\n",
              "      width: 32px;\n",
              "    }\n",
              "\n",
              "    .colab-df-convert:hover {\n",
              "      background-color: #E2EBFA;\n",
              "      box-shadow: 0px 1px 2px rgba(60, 64, 67, 0.3), 0px 1px 3px 1px rgba(60, 64, 67, 0.15);\n",
              "      fill: #174EA6;\n",
              "    }\n",
              "\n",
              "    .colab-df-buttons div {\n",
              "      margin-bottom: 4px;\n",
              "    }\n",
              "\n",
              "    [theme=dark] .colab-df-convert {\n",
              "      background-color: #3B4455;\n",
              "      fill: #D2E3FC;\n",
              "    }\n",
              "\n",
              "    [theme=dark] .colab-df-convert:hover {\n",
              "      background-color: #434B5C;\n",
              "      box-shadow: 0px 1px 3px 1px rgba(0, 0, 0, 0.15);\n",
              "      filter: drop-shadow(0px 1px 2px rgba(0, 0, 0, 0.3));\n",
              "      fill: #FFFFFF;\n",
              "    }\n",
              "  </style>\n",
              "\n",
              "    <script>\n",
              "      const buttonEl =\n",
              "        document.querySelector('#df-fd29e740-5c95-42a5-b892-2edd6b684ec1 button.colab-df-convert');\n",
              "      buttonEl.style.display =\n",
              "        google.colab.kernel.accessAllowed ? 'block' : 'none';\n",
              "\n",
              "      async function convertToInteractive(key) {\n",
              "        const element = document.querySelector('#df-fd29e740-5c95-42a5-b892-2edd6b684ec1');\n",
              "        const dataTable =\n",
              "          await google.colab.kernel.invokeFunction('convertToInteractive',\n",
              "                                                    [key], {});\n",
              "        if (!dataTable) return;\n",
              "\n",
              "        const docLinkHtml = 'Like what you see? Visit the ' +\n",
              "          '<a target=\"_blank\" href=https://colab.research.google.com/notebooks/data_table.ipynb>data table notebook</a>'\n",
              "          + ' to learn more about interactive tables.';\n",
              "        element.innerHTML = '';\n",
              "        dataTable['output_type'] = 'display_data';\n",
              "        await google.colab.output.renderOutput(dataTable, element);\n",
              "        const docLink = document.createElement('div');\n",
              "        docLink.innerHTML = docLinkHtml;\n",
              "        element.appendChild(docLink);\n",
              "      }\n",
              "    </script>\n",
              "  </div>\n",
              "\n",
              "    </div>\n",
              "  </div>\n"
            ]
          },
          "metadata": {},
          "execution_count": 7
        }
      ]
    },
    {
      "cell_type": "markdown",
      "source": [
        "Vectorizing the SMILES with data augmentation"
      ],
      "metadata": {
        "id": "MMjPZ_oY_C72"
      }
    },
    {
      "cell_type": "code",
      "source": [
        "\tfrom molvecgen.vectorizers import SmilesVectorizer"
      ],
      "metadata": {
        "id": "fESRuwO--9Vf"
      },
      "execution_count": null,
      "outputs": []
    },
    {
      "cell_type": "markdown",
      "source": [
        "The object is initialized with the generation parameters and subsequently fitted to the dataset. This analyzes the dataset for what characters it contains and the maximal length. As the augmentation can result in longer SMILES strings as well as the appearance of some additional characters, some extra padding and characters may be needed to avoid too many “?” which are unknown characters. It doesn’t appear to be a huge issue for this dataset."
      ],
      "metadata": {
        "id": "5KEK7H-k_NS3"
      }
    },
    {
      "cell_type": "code",
      "source": [
        "smivec = SmilesVectorizer(pad=1, leftpad=True, canonical=False, augment=True)\n",
        "smivec.fit(data.Molecule.values, )"
      ],
      "metadata": {
        "id": "UDj62qhc_OLB"
      },
      "execution_count": null,
      "outputs": []
    },
    {
      "cell_type": "markdown",
      "source": [
        "After fitting we can inspect the charachter set and the dimensions of the produced one-hot encoded SMILES including the padding"
      ],
      "metadata": {
        "id": "ova3oA7a_ZMQ"
      }
    },
    {
      "cell_type": "code",
      "source": [
        "print(smivec.charset)\n",
        "smivec.dims"
      ],
      "metadata": {
        "colab": {
          "base_uri": "https://localhost:8080/"
        },
        "id": "9nBvGpnM_aGI",
        "outputId": "b2d698ec-589f-4c76-c742-900d30515998"
      },
      "execution_count": null,
      "outputs": [
        {
          "output_type": "stream",
          "name": "stdout",
          "text": [
            "-6Sl)iFsao#/4(NC5.3Pn+O7\\2c[=]r1H@BI^$?\n"
          ]
        },
        {
          "output_type": "execute_result",
          "data": {
            "text/plain": [
              "(604, 39)"
            ]
          },
          "metadata": {},
          "execution_count": 10
        }
      ]
    },
    {
      "cell_type": "markdown",
      "source": [
        "Before we start to manipulate the dataset with normalization it’s important to split into train, validation (development) and test sets. Scikit-learn, contains some convenient functions to split into different sets as well as normalize the target values."
      ],
      "metadata": {
        "id": "uLY0zweE_jo_"
      }
    },
    {
      "cell_type": "code",
      "source": [
        "y = data.pIC50.values.reshape((-1,1))\n",
        "X = data.Molecule.values\n",
        "X_train, X_test, y_train, y_test = train_test_split(X, y,  test_size=0.10, random_state=42)\n",
        "X_train, X_validation, y_train, y_validation = train_test_split(X_train, y_train,  test_size=0.05, random_state=42)\n",
        "#Normalizing output using standard scaling\n",
        "scaler = StandardScaler()\n",
        "y_train = scaler.fit_transform(y_train)\n",
        "y_test = scaler.transform(y_test)\n",
        "y_validation = scaler.transform(y_validation)"
      ],
      "metadata": {
        "id": "00j86BJm_kUv"
      },
      "execution_count": null,
      "outputs": []
    },
    {
      "cell_type": "markdown",
      "source": [
        "PyTorch works with datasets, and we can easily integrate the vectorizer by subclassing the __getitem__ method and the __len__method. This way we can load the dataset with RDKit molecular objects and generate the tensors on the fly. This allows us to use SMILES augmentation on the fly without pre vectorizing the dataset. This is a small overhead during training, but it is convenient and allows to handle huge datasets without running out of memory."
      ],
      "metadata": {
        "id": "LqVAhXYuBAUP"
      }
    },
    {
      "cell_type": "markdown",
      "source": [
        "Wrapping the SMILES vectorizer in a PyTorch dataset"
      ],
      "metadata": {
        "id": "Nv9ZXdFvBEe3"
      }
    },
    {
      "cell_type": "code",
      "source": [
        "class SMILESMolDataset(Dataset):\n",
        "    def __init__(self, molecules, y, vectorizer):\n",
        "        self.molecules = molecules\n",
        "        self.y = y\n",
        "        self.vectorizer = vectorizer\n",
        "    def __len__(self):\n",
        "        return len(self.molecules)\n",
        "    def __getitem__(self, idx):\n",
        "        if torch.is_tensor(idx):\n",
        "            idx = idx.tolist()\n",
        "\n",
        "        mols = self.molecules[idx]\n",
        "\n",
        "        #The vectorizer was written to work with batches,\n",
        "        #but PyTorch datasets unfortunately works with single samples\n",
        "        sample = self.vectorizer.transform([mols])[0]\n",
        "        label = self.y[idx]\n",
        "        return sample, label"
      ],
      "metadata": {
        "id": "qGQt4LadBBL3"
      },
      "execution_count": null,
      "outputs": []
    },
    {
      "cell_type": "markdown",
      "source": [
        "Now we can create and work with the dataset. Calling the first items returns the vector and the target value. Calling it again will most probably result in a different augmented SMILES tensor as we turned on augmentation."
      ],
      "metadata": {
        "id": "WNfrB5x9BQFA"
      }
    },
    {
      "cell_type": "code",
      "source": [
        "train_dataset = SMILESMolDataset(X_train, y_train, smivec)\n",
        "train_dataset[0]"
      ],
      "metadata": {
        "colab": {
          "base_uri": "https://localhost:8080/"
        },
        "id": "s_VBHBMWBRFR",
        "outputId": "d87374be-bba0-4140-a290-1af522e84c81"
      },
      "execution_count": null,
      "outputs": [
        {
          "output_type": "execute_result",
          "data": {
            "text/plain": [
              "(array([[0, 0, 0, ..., 0, 0, 0],\n",
              "        [0, 0, 0, ..., 0, 0, 0],\n",
              "        [0, 0, 0, ..., 0, 0, 0],\n",
              "        ...,\n",
              "        [0, 0, 0, ..., 0, 0, 0],\n",
              "        [0, 0, 0, ..., 0, 0, 0],\n",
              "        [0, 0, 0, ..., 0, 1, 0]], dtype=int8),\n",
              " array([0.35060079]))"
            ]
          },
          "metadata": {},
          "execution_count": 13
        }
      ]
    },
    {
      "cell_type": "code",
      "source": [
        "device = torch.device(\"cuda:0\" if torch.cuda.is_available() else \"cpu\")\n",
        "print(device)\n",
        "X_validation_t = smivec.transform(X_validation, canonical=False)\n",
        "X_validation_t = torch.tensor(X_validation_t, device=device).float()\n",
        "y_validation_t = torch.tensor(y_validation, device=device).float()\n",
        "X_validation_t.shape"
      ],
      "metadata": {
        "colab": {
          "base_uri": "https://localhost:8080/"
        },
        "id": "Dtva2H5XCwS1",
        "outputId": "5cace43b-51be-4d8b-b048-d3e822e7f26e"
      },
      "execution_count": null,
      "outputs": [
        {
          "output_type": "stream",
          "name": "stdout",
          "text": [
            "cuda:0\n"
          ]
        },
        {
          "output_type": "execute_result",
          "data": {
            "text/plain": [
              "torch.Size([134, 604, 39])"
            ]
          },
          "metadata": {},
          "execution_count": 14
        }
      ]
    },
    {
      "cell_type": "markdown",
      "source": [
        "**Defining the PyTorch LSTM molecular model**\n",
        "\n",
        "Having the datasets and preprocessing in place it’s time for the fun part. Defining the neural network architecture. I’ve kept this really simple with just a single layer of LSTM cells and a bit of dropout for conteracting over-fitting."
      ],
      "metadata": {
        "id": "awlb7E5nC6fX"
      }
    },
    {
      "cell_type": "code",
      "source": [
        "class Net(nn.Module):\n",
        "    def __init__(self, dimensions, lstm_size, hidden_size, dropout_rate, out_size):\n",
        "        super(Net, self).__init__()\n",
        "\n",
        "        length = dims[0]\n",
        "        number_tokens = dims[1]\n",
        "\n",
        "\n",
        "        self.lstm = nn.LSTM(input_size=number_tokens, hidden_size=lstm_size, num_layers=1, batch_first=True, bidirectional=False)\n",
        "        self.fc1 = nn.Linear(lstm_size, hidden_size) # Output layer\n",
        "        self.activation = nn.ReLU() # Non-Linear ReLU Layer\n",
        "        self.fc_out = nn.Linear(hidden_size, out_size) # Output layer\n",
        "        self.dropout = nn.Dropout(dropout_rate)\n",
        "\n",
        "    def forward(self, x):# Forward pass: stacking each layer together\n",
        "        out, (h_n, c_n) = self.lstm(x) #LSTM network reads in one-hot-encoded SMILES, h_n is last output, out is for all timesteps\n",
        "        out = self.dropout(h_n) #Dropout\n",
        "        out = self.fc1(out) # Pass into the hidden layer\n",
        "        out = self.activation(out) # Use ReLU on hidden activation\n",
        "        out = self.dropout(out) # dropout\n",
        "        out = self.fc_out(out) # Use a linear layer for the output\n",
        "        return out"
      ],
      "metadata": {
        "id": "i6MSQIOqC5lx"
      },
      "execution_count": null,
      "outputs": []
    },
    {
      "cell_type": "markdown",
      "source": [
        "Lets define some parameters that will control the size and dropout of the network. These ideally needs to be tuned with some algorithm, but here I simply choose some parameters based on a bit of experimenting."
      ],
      "metadata": {
        "id": "Zp5qww8oDVRY"
      }
    },
    {
      "cell_type": "code",
      "source": [
        "epochs = 750\n",
        "dims = smivec.dims\n",
        "lstm_size = 128  # The size of the LSTM layer\n",
        "hidden_size = 128  # The size of the hidden non-linear layer\n",
        "dropout_rate = 0.50 # The dropout rate\n",
        "output_size = 1        # This is just a single task, so this will be one\n",
        "batch_size = 128   # The mini_batch size during training\n",
        "learning_rate = 0.003  # The initial learning rate for the optimizer"
      ],
      "metadata": {
        "id": "69Zm_-I_DVjY"
      },
      "execution_count": null,
      "outputs": []
    },
    {
      "cell_type": "code",
      "source": [
        "model = Net(smivec, lstm_size, hidden_size, dropout_rate, output_size)\n",
        "model.cuda()"
      ],
      "metadata": {
        "colab": {
          "base_uri": "https://localhost:8080/"
        },
        "id": "PYa54aTYDgMp",
        "outputId": "d77793e0-b973-47de-b83b-2aa385b393a8"
      },
      "execution_count": null,
      "outputs": [
        {
          "output_type": "execute_result",
          "data": {
            "text/plain": [
              "Net(\n",
              "  (lstm): LSTM(39, 128, batch_first=True)\n",
              "  (fc1): Linear(in_features=128, out_features=128, bias=True)\n",
              "  (activation): ReLU()\n",
              "  (fc_out): Linear(in_features=128, out_features=1, bias=True)\n",
              "  (dropout): Dropout(p=0.5, inplace=False)\n",
              ")"
            ]
          },
          "metadata": {},
          "execution_count": 17
        }
      ]
    },
    {
      "cell_type": "markdown",
      "source": [
        "A quick test to see that the network is working is to predict a sample from the validation set, as this is already vectorized. The output will probably not be right, but it will show that the networks tensors are at least not having technical errors in the way they are connected"
      ],
      "metadata": {
        "id": "IUIxbPI7DlVh"
      }
    },
    {
      "cell_type": "code",
      "source": [
        "pred = model.forward(X_validation_t[10:11])\n",
        "pred"
      ],
      "metadata": {
        "colab": {
          "base_uri": "https://localhost:8080/"
        },
        "id": "iTxGNj2rDmJp",
        "outputId": "757fae33-1d6f-4d91-d920-6f526611ab92"
      },
      "execution_count": null,
      "outputs": [
        {
          "output_type": "execute_result",
          "data": {
            "text/plain": [
              "tensor([[[0.0068]]], device='cuda:0', grad_fn=<ViewBackward0>)"
            ]
          },
          "metadata": {},
          "execution_count": 18
        }
      ]
    },
    {
      "cell_type": "markdown",
      "source": [
        "Mean square error is a reasonable loss function for regression tasks, and Adam will be used to optimize the weights. A learning rate scheduler will lower the loss once the validation loss stops to improve."
      ],
      "metadata": {
        "id": "LGK8OgXjDvQA"
      }
    },
    {
      "cell_type": "code",
      "source": [
        "criterion = nn.MSELoss()\n",
        "optimizer = torch.optim.Adam(model.parameters(), lr=learning_rate)\n",
        "lr_scheduler = ReduceLROnPlateau(optimizer, mode='min', factor=0.5, patience=50,\n",
        "                  verbose=True, threshold=0.0001, threshold_mode='rel', cooldown=0, min_lr=1e-6, eps=1e-08)"
      ],
      "metadata": {
        "id": "JmdiCkljDwF3"
      },
      "execution_count": null,
      "outputs": []
    },
    {
      "cell_type": "markdown",
      "source": [
        "The train dataset will be used together with a PyTorch dataloader to provide randomly selected mini-batches for the training."
      ],
      "metadata": {
        "id": "ALkr9CEtD8Zw"
      }
    },
    {
      "cell_type": "code",
      "source": [
        "train_loader = torch.utils.data.DataLoader(dataset=train_dataset,\n",
        "                                          batch_size=batch_size,\n",
        "                                          shuffle=True, num_workers=4)"
      ],
      "metadata": {
        "colab": {
          "base_uri": "https://localhost:8080/"
        },
        "id": "vE9K0ETQD_gQ",
        "outputId": "8ee17f64-6a4a-467f-e627-1e66d1e0bd77"
      },
      "execution_count": null,
      "outputs": [
        {
          "output_type": "stream",
          "name": "stderr",
          "text": [
            "/usr/local/lib/python3.10/dist-packages/torch/utils/data/dataloader.py:560: UserWarning: This DataLoader will create 4 worker processes in total. Our suggested max number of worker in current system is 2, which is smaller than what this DataLoader is going to create. Please be aware that excessive worker creation might get DataLoader running slow or even freeze, lower the worker number to avoid potential slowness/freeze if necessary.\n",
            "  warnings.warn(_create_warning_msg(\n"
          ]
        }
      ]
    },
    {
      "cell_type": "markdown",
      "source": [
        "A quick test of the train_loader which also provides us with some samples to work if needed for trouble shooting."
      ],
      "metadata": {
        "id": "T-r-7eraECtY"
      }
    },
    {
      "cell_type": "code",
      "source": [
        "for smiles, labels in train_loader:\n",
        "    break"
      ],
      "metadata": {
        "id": "1qNAj2B-EDhg"
      },
      "execution_count": null,
      "outputs": []
    },
    {
      "cell_type": "markdown",
      "source": [
        "**Training the PyTorch SMILES based LSTM model**\n",
        "\n",
        "Training is a bit more handheld than in keras. The one_hot encoded smiles are provided by the train_loader and moved to the gpu. The gradients of the optimizer are zeroed and the output calculated of the model. This also records the differentials needed for back propagation. The loss is calculated and passed backward which calculates the gradient with respect to the loss. The weights are then changed using the optimizer. At the end of each for loop the model is switched into evaluation mode (dropout layers inactivated), and some statistics calculated and printed."
      ],
      "metadata": {
        "id": "6UMq2NWgEXXI"
      }
    },
    {
      "cell_type": "code",
      "source": [
        "model.train() #Ensure the network is in \"train\" mode with dropouts active\n",
        "train_losses = []\n",
        "validation_losses = []\n",
        "for e in range(epochs):\n",
        "    running_loss = 0\n",
        "    for smiles, labels in train_loader:\n",
        "        # Push numpy to CUDA tensors\n",
        "        smiles = torch.tensor(smiles, device=device).float()\n",
        "        labels = torch.tensor(labels, device=device).float()\n",
        "        # Training pass\n",
        "        optimizer.zero_grad() # Initialize the gradients, which will be recorded during the forward pass\n",
        "\n",
        "        output = model(smiles) #Forward pass of the mini-batch\n",
        "        loss = criterion(output, labels) #Computing the loss\n",
        "        loss.backward() # calculate the backward pass\n",
        "        torch.nn.utils.clip_grad_norm_(model.parameters(), 1)\n",
        "        optimizer.step() # Optimize the weights\n",
        "\n",
        "        running_loss += loss.item()\n",
        "    else:\n",
        "\n",
        "\n",
        "        model.eval()\n",
        "        validation_loss = torch.mean(( y_validation_t - model(X_validation_t) )**2).item()\n",
        "        model.train()\n",
        "\n",
        "        lr_scheduler.step(validation_loss)\n",
        "\n",
        "        train_loss = running_loss/len(train_loader)\n",
        "        train_losses.append(train_loss)\n",
        "        validation_losses.append(validation_loss)\n",
        "        if (e+1)%10 == 0:\n",
        "            print(\"Epoch %i, Training loss: %0.2F Validation loss: %0.2F\"%(e + 1, train_loss, validation_loss))"
      ],
      "metadata": {
        "colab": {
          "base_uri": "https://localhost:8080/"
        },
        "id": "2DHRqaIOEaWv",
        "outputId": "5fe71005-d66c-470c-dc44-35d1838e9575"
      },
      "execution_count": null,
      "outputs": [
        {
          "output_type": "stream",
          "name": "stderr",
          "text": [
            "<ipython-input-22-04f867af04c4>:8: UserWarning: To copy construct from a tensor, it is recommended to use sourceTensor.clone().detach() or sourceTensor.clone().detach().requires_grad_(True), rather than torch.tensor(sourceTensor).\n",
            "  smiles = torch.tensor(smiles, device=device).float()\n",
            "<ipython-input-22-04f867af04c4>:9: UserWarning: To copy construct from a tensor, it is recommended to use sourceTensor.clone().detach() or sourceTensor.clone().detach().requires_grad_(True), rather than torch.tensor(sourceTensor).\n",
            "  labels = torch.tensor(labels, device=device).float()\n",
            "/usr/local/lib/python3.10/dist-packages/torch/nn/modules/loss.py:536: UserWarning: Using a target size (torch.Size([128, 1])) that is different to the input size (torch.Size([1, 128, 1])). This will likely lead to incorrect results due to broadcasting. Please ensure they have the same size.\n",
            "  return F.mse_loss(input, target, reduction=self.reduction)\n",
            "/usr/local/lib/python3.10/dist-packages/torch/nn/modules/loss.py:536: UserWarning: Using a target size (torch.Size([105, 1])) that is different to the input size (torch.Size([1, 105, 1])). This will likely lead to incorrect results due to broadcasting. Please ensure they have the same size.\n",
            "  return F.mse_loss(input, target, reduction=self.reduction)\n"
          ]
        },
        {
          "output_type": "stream",
          "name": "stdout",
          "text": [
            "Epoch 10, Training loss: 0.89 Validation loss: 0.69\n",
            "Epoch 20, Training loss: 0.79 Validation loss: 0.63\n",
            "Epoch 30, Training loss: 0.79 Validation loss: 0.62\n",
            "Epoch 40, Training loss: 0.75 Validation loss: 0.60\n",
            "Epoch 50, Training loss: 0.68 Validation loss: 0.62\n",
            "Epoch 60, Training loss: 0.67 Validation loss: 0.64\n",
            "Epoch 70, Training loss: 0.60 Validation loss: 0.53\n",
            "Epoch 80, Training loss: 0.59 Validation loss: 0.56\n",
            "Epoch 90, Training loss: 0.53 Validation loss: 0.55\n",
            "Epoch 100, Training loss: 0.55 Validation loss: 0.63\n",
            "Epoch 110, Training loss: 0.51 Validation loss: 0.52\n",
            "Epoch 120, Training loss: 0.47 Validation loss: 0.55\n",
            "Epoch 130, Training loss: 0.42 Validation loss: 0.48\n",
            "Epoch 140, Training loss: 0.41 Validation loss: 0.46\n",
            "Epoch 150, Training loss: 0.40 Validation loss: 0.48\n",
            "Epoch 160, Training loss: 0.38 Validation loss: 0.51\n",
            "Epoch 170, Training loss: 0.35 Validation loss: 0.44\n",
            "Epoch 180, Training loss: 0.33 Validation loss: 0.52\n",
            "Epoch 190, Training loss: 0.33 Validation loss: 0.47\n",
            "Epoch 200, Training loss: 0.32 Validation loss: 0.44\n",
            "Epoch 210, Training loss: 0.30 Validation loss: 0.40\n",
            "Epoch 220, Training loss: 0.28 Validation loss: 0.40\n",
            "Epoch 230, Training loss: 0.29 Validation loss: 0.40\n",
            "Epoch 240, Training loss: 0.25 Validation loss: 0.38\n",
            "Epoch 250, Training loss: 0.24 Validation loss: 0.40\n",
            "Epoch 260, Training loss: 0.24 Validation loss: 0.42\n",
            "Epoch 270, Training loss: 0.21 Validation loss: 0.40\n",
            "Epoch 00274: reducing learning rate of group 0 to 1.5000e-03.\n",
            "Epoch 280, Training loss: 0.20 Validation loss: 0.40\n",
            "Epoch 290, Training loss: 0.20 Validation loss: 0.40\n",
            "Epoch 300, Training loss: 0.19 Validation loss: 0.41\n",
            "Epoch 310, Training loss: 0.20 Validation loss: 0.45\n",
            "Epoch 320, Training loss: 0.18 Validation loss: 0.43\n",
            "Epoch 00325: reducing learning rate of group 0 to 7.5000e-04.\n",
            "Epoch 330, Training loss: 0.17 Validation loss: 0.41\n",
            "Epoch 340, Training loss: 0.17 Validation loss: 0.41\n",
            "Epoch 350, Training loss: 0.16 Validation loss: 0.41\n",
            "Epoch 360, Training loss: 0.16 Validation loss: 0.41\n",
            "Epoch 370, Training loss: 0.15 Validation loss: 0.39\n",
            "Epoch 00376: reducing learning rate of group 0 to 3.7500e-04.\n",
            "Epoch 380, Training loss: 0.16 Validation loss: 0.38\n",
            "Epoch 390, Training loss: 0.15 Validation loss: 0.38\n",
            "Epoch 400, Training loss: 0.15 Validation loss: 0.40\n",
            "Epoch 410, Training loss: 0.15 Validation loss: 0.39\n",
            "Epoch 420, Training loss: 0.15 Validation loss: 0.40\n",
            "Epoch 00427: reducing learning rate of group 0 to 1.8750e-04.\n",
            "Epoch 430, Training loss: 0.14 Validation loss: 0.40\n",
            "Epoch 440, Training loss: 0.15 Validation loss: 0.39\n",
            "Epoch 450, Training loss: 0.15 Validation loss: 0.40\n",
            "Epoch 460, Training loss: 0.14 Validation loss: 0.41\n",
            "Epoch 470, Training loss: 0.14 Validation loss: 0.41\n",
            "Epoch 00478: reducing learning rate of group 0 to 9.3750e-05.\n",
            "Epoch 480, Training loss: 0.14 Validation loss: 0.41\n",
            "Epoch 490, Training loss: 0.14 Validation loss: 0.40\n",
            "Epoch 500, Training loss: 0.14 Validation loss: 0.40\n",
            "Epoch 510, Training loss: 0.14 Validation loss: 0.40\n",
            "Epoch 520, Training loss: 0.14 Validation loss: 0.40\n",
            "Epoch 00529: reducing learning rate of group 0 to 4.6875e-05.\n",
            "Epoch 530, Training loss: 0.14 Validation loss: 0.40\n",
            "Epoch 540, Training loss: 0.15 Validation loss: 0.40\n",
            "Epoch 550, Training loss: 0.14 Validation loss: 0.40\n",
            "Epoch 560, Training loss: 0.14 Validation loss: 0.40\n",
            "Epoch 570, Training loss: 0.14 Validation loss: 0.40\n",
            "Epoch 00580: reducing learning rate of group 0 to 2.3438e-05.\n",
            "Epoch 580, Training loss: 0.14 Validation loss: 0.40\n",
            "Epoch 590, Training loss: 0.13 Validation loss: 0.40\n",
            "Epoch 600, Training loss: 0.15 Validation loss: 0.40\n",
            "Epoch 610, Training loss: 0.13 Validation loss: 0.40\n",
            "Epoch 620, Training loss: 0.15 Validation loss: 0.40\n",
            "Epoch 630, Training loss: 0.14 Validation loss: 0.40\n",
            "Epoch 00631: reducing learning rate of group 0 to 1.1719e-05.\n",
            "Epoch 640, Training loss: 0.14 Validation loss: 0.40\n",
            "Epoch 650, Training loss: 0.13 Validation loss: 0.40\n",
            "Epoch 660, Training loss: 0.14 Validation loss: 0.40\n",
            "Epoch 670, Training loss: 0.13 Validation loss: 0.40\n",
            "Epoch 680, Training loss: 0.14 Validation loss: 0.40\n",
            "Epoch 00682: reducing learning rate of group 0 to 5.8594e-06.\n",
            "Epoch 690, Training loss: 0.14 Validation loss: 0.40\n",
            "Epoch 700, Training loss: 0.14 Validation loss: 0.40\n",
            "Epoch 710, Training loss: 0.14 Validation loss: 0.40\n",
            "Epoch 720, Training loss: 0.14 Validation loss: 0.40\n",
            "Epoch 730, Training loss: 0.14 Validation loss: 0.40\n",
            "Epoch 00733: reducing learning rate of group 0 to 2.9297e-06.\n",
            "Epoch 740, Training loss: 0.14 Validation loss: 0.40\n",
            "Epoch 750, Training loss: 0.13 Validation loss: 0.40\n"
          ]
        }
      ]
    },
    {
      "cell_type": "markdown",
      "source": [
        "After training we can plot the training. It looks a little overfit as the validation loss is diverging and maybe rising a bit in the end. Changing the hyperparameters and retraining could work, but it can be tedious to find the excact right parameter, so a optimization library is recommended."
      ],
      "metadata": {
        "id": "ZyUXk1SoGJ0m"
      }
    },
    {
      "cell_type": "code",
      "source": [
        "plt.plot(train_losses, label=\"Train\")\n",
        "plt.plot(validation_losses, label=\"Validation\")\n",
        "#plt.yscale('log')\n",
        "plt.legend()"
      ],
      "metadata": {
        "colab": {
          "base_uri": "https://localhost:8080/",
          "height": 447
        },
        "id": "yxBcCBEdGK-G",
        "outputId": "d2af7092-7a90-48ce-b090-b4441dc23766"
      },
      "execution_count": null,
      "outputs": [
        {
          "output_type": "execute_result",
          "data": {
            "text/plain": [
              "<matplotlib.legend.Legend at 0x7c44bec55210>"
            ]
          },
          "metadata": {},
          "execution_count": 23
        },
        {
          "output_type": "display_data",
          "data": {
            "text/plain": [
              "<Figure size 640x480 with 1 Axes>"
            ],
            "image/png": "[encoded data removed]"
          },
          "metadata": {}
        }
      ]
    },
    {
      "cell_type": "markdown",
      "source": [
        "**Evaluating the performance**\n",
        "The model is switched into evaluation mode and some statistics are calculated in the form of root mean square error (RMSE)."
      ],
      "metadata": {
        "id": "fEfqWTCmGN6v"
      }
    },
    {
      "cell_type": "code",
      "source": [
        "model.eval() #Swith to evaluation mode, where dropout is switched off\n",
        "#y_pred_train = model(X_train)\n",
        "y_pred_validation = model(X_validation_t)\n",
        "#y_pred_test = model(X_test)"
      ],
      "metadata": {
        "id": "D1i7v7xdG_je"
      },
      "execution_count": null,
      "outputs": []
    },
    {
      "cell_type": "code",
      "source": [
        "torch.mean(( y_validation_t - y_pred_validation )**2).item()"
      ],
      "metadata": {
        "colab": {
          "base_uri": "https://localhost:8080/"
        },
        "id": "gAsqCJPuHCwk",
        "outputId": "dbc2cb2f-c1d1-4ae7-e354-e36b0882e8e6"
      },
      "execution_count": null,
      "outputs": [
        {
          "output_type": "execute_result",
          "data": {
            "text/plain": [
              "0.40291276574134827"
            ]
          },
          "metadata": {},
          "execution_count": 28
        }
      ]
    },
    {
      "cell_type": "markdown",
      "source": [
        "Let’s also vectorize the train and test sets and see how they perform."
      ],
      "metadata": {
        "id": "cryONWHYH3Wc"
      }
    },
    {
      "cell_type": "code",
      "source": [
        "X_train_t = smivec.transform(X_train, canonical=False)\n",
        "X_train_t = torch.tensor(X_train_t, device=device).float()\n",
        "y_train_t = torch.tensor(y_train, device=device).float()\n",
        "X_test_t = smivec.transform(X_test, canonical=False)\n",
        "X_test_t = torch.tensor(X_test_t, device=device).float()\n",
        "y_test_t = torch.tensor(y_test, device=device).float()"
      ],
      "metadata": {
        "id": "_CanURUzHI8E"
      },
      "execution_count": null,
      "outputs": []
    },
    {
      "cell_type": "code",
      "source": [
        "#y_pred_train = model(X_train_t)\n",
        "y_pred_test = model(X_test_t)\n",
        "#train_rmse = torch.mean(( y_train_t - y_pred_train )**2).item()\n",
        "test_rmse = torch.mean(( y_test_t - y_pred_test )**2).item()\n",
        "print(\"Test RMSE: %0.3F\"%(test_rmse))"
      ],
      "metadata": {
        "colab": {
          "base_uri": "https://localhost:8080/"
        },
        "id": "_UBIG0fDHOol",
        "outputId": "6626dc11-6f4f-44bd-a783-ac6625988442"
      },
      "execution_count": null,
      "outputs": [
        {
          "output_type": "stream",
          "name": "stdout",
          "text": [
            "Test RMSE: 0.426\n"
          ]
        }
      ]
    },
    {
      "cell_type": "markdown",
      "source": [
        "A visual plot of the predicted versus real values can also help estimate the goodnes of the fit."
      ],
      "metadata": {
        "id": "LLtCvgWMHyEM"
      }
    },
    {
      "cell_type": "code",
      "source": [
        "#plt.scatter(np.array(y_pred_train.tolist()).flatten(), np.array(y_train_t.tolist()).flatten(), alpha=0.1)\n",
        "plt.scatter(np.array(y_pred_validation.tolist()).flatten(), np.array(y_validation_t.tolist()).flatten(), alpha=0.5)\n",
        "plt.plot([-1.5, 1.5], [-1.5,1.5], c=\"b\")"
      ],
      "metadata": {
        "colab": {
          "base_uri": "https://localhost:8080/",
          "height": 447
        },
        "id": "Zu3mZXTKHR7U",
        "outputId": "61796d57-1ff3-40ad-9a83-9da14c1f5664"
      },
      "execution_count": null,
      "outputs": [
        {
          "output_type": "execute_result",
          "data": {
            "text/plain": [
              "[<matplotlib.lines.Line2D at 0x7c44b1bf5b10>]"
            ]
          },
          "metadata": {},
          "execution_count": 36
        },
        {
          "output_type": "display_data",
          "data": {
            "text/plain": [
              "<Figure size 640x480 with 1 Axes>"
            ],
            "image/png": "[encoded data removed]"
          },
          "metadata": {}
        }
      ]
    },
    {
      "cell_type": "markdown",
      "source": [
        "Compared to the fingerprint feed forward network, this model seems to be slightly worse. Deep learning usually require a lot of data, and this dataset may not cut the bill in size. Alternative more tuning is needed to get the right hyperparameters for the networks, such as learning rate, dropout, networksize, etc. But reading in SMILES can be used in a lot of other interesting architectures, and this model illustrates the foundation for reading-in molecules in SMILES format for a PyTorch based artificial neural network."
      ],
      "metadata": {
        "id": "jHAEYSq6Ho6T"
      }
    }
  ]
}