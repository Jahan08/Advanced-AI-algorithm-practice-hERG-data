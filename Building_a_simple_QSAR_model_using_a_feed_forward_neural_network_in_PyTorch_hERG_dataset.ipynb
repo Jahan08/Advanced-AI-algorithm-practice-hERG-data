{
  "nbformat": 4,
  "nbformat_minor": 0,
  "metadata": {
    "colab": {
      "provenance": [],
      "gpuType": "T4",
      "authorship_tag": "ABX9TyMYBdo58MDLic8jU4TZvWMY",
      "include_colab_link": true
    },
    "kernelspec": {
      "name": "python3",
      "display_name": "Python 3"
    },
    "language_info": {
      "name": "python"
    },
    "accelerator": "GPU"
  },
  "cells": [
    {
      "cell_type": "markdown",
      "metadata": {
        "id": "view-in-github",
        "colab_type": "text"
      },
      "source": [
        "<a href=\"https://colab.research.google.com/github/Jahan08/Advanced-AI-algorithm-practice-hERG-data/blob/main/Building_a_simple_QSAR_model_using_a_feed_forward_neural_network_in_PyTorch_hERG_dataset.ipynb\" target=\"_parent\"><img src=\"https://colab.research.google.com/assets/colab-badge.svg\" alt=\"Open In Colab\"/></a>"
      ]
    },
    {
      "cell_type": "code",
      "source": [
        "!pip install rdkit"
      ],
      "metadata": {
        "colab": {
          "base_uri": "https://localhost:8080/"
        },
        "id": "qS0fRlEQ8uUZ",
        "outputId": "cfeb7d6e-7bc9-44b3-a34b-7a479b405487"
      },
      "execution_count": 1,
      "outputs": [
        {
          "output_type": "stream",
          "name": "stdout",
          "text": [
            "Collecting rdkit\n",
            "  Downloading rdkit-2023.3.3-cp310-cp310-manylinux_2_17_x86_64.manylinux2014_x86_64.whl (29.7 MB)\n",
            "\u001b[2K     \u001b[90m━━━━━━━━━━━━━━━━━━━━━━━━━━━━━━━━━━━━━━━━\u001b[0m \u001b[32m29.7/29.7 MB\u001b[0m \u001b[31m55.7 MB/s\u001b[0m eta \u001b[36m0:00:00\u001b[0m\n",
            "\u001b[?25hRequirement already satisfied: numpy in /usr/local/lib/python3.10/dist-packages (from rdkit) (1.23.5)\n",
            "Requirement already satisfied: Pillow in /usr/local/lib/python3.10/dist-packages (from rdkit) (9.4.0)\n",
            "Installing collected packages: rdkit\n",
            "Successfully installed rdkit-2023.3.3\n"
          ]
        }
      ]
    },
    {
      "cell_type": "code",
      "execution_count": 2,
      "metadata": {
        "id": "Fg_mE-J78Q-q"
      },
      "outputs": [],
      "source": [
        "import numpy as np\n",
        "import pandas as pd\n",
        "import matplotlib.pyplot as plt\n",
        "import torch\n",
        "import torch.nn as nn\n",
        "from sklearn.preprocessing import StandardScaler\n",
        "from sklearn.model_selection import train_test_split"
      ]
    },
    {
      "cell_type": "code",
      "source": [
        "data = pd.read_csv(\"/content/hERG_bioactivity_pIC50.csv\")\n",
        "data.head(1)"
      ],
      "metadata": {
        "colab": {
          "base_uri": "https://localhost:8080/",
          "height": 81
        },
        "id": "gH_J_4_L9sIT",
        "outputId": "e5f5809d-4135-499b-83d9-d231b47fb57f"
      },
      "execution_count": 4,
      "outputs": [
        {
          "output_type": "execute_result",
          "data": {
            "text/plain": [
              "  assay_chembl_id                   assay_description  \\\n",
              "0    CHEMBL841079  Inhibition of hERG currents Kv11.1   \n",
              "\n",
              "                                    canonical_smiles      Source         Name  \\\n",
              "0  O=C1NCCN1CCN1CCC(c2cn(-c3ccc(F)cc3)c3ccc(Cl)cc...  J Med Chem  CHEMBL12713   \n",
              "\n",
              "   hERG_uM  Activity     pIC50  \n",
              "0    0.014         1  7.853872  "
            ],
            "text/html": [
              "\n",
              "  <div id=\"df-94ddda8c-5436-4204-adba-6d224adbf94f\" class=\"colab-df-container\">\n",
              "    <div>\n",
              "<style scoped>\n",
              "    .dataframe tbody tr th:only-of-type {\n",
              "        vertical-align: middle;\n",
              "    }\n",
              "\n",
              "    .dataframe tbody tr th {\n",
              "        vertical-align: top;\n",
              "    }\n",
              "\n",
              "    .dataframe thead th {\n",
              "        text-align: right;\n",
              "    }\n",
              "</style>\n",
              "<table border=\"1\" class=\"dataframe\">\n",
              "  <thead>\n",
              "    <tr style=\"text-align: right;\">\n",
              "      <th></th>\n",
              "      <th>assay_chembl_id</th>\n",
              "      <th>assay_description</th>\n",
              "      <th>canonical_smiles</th>\n",
              "      <th>Source</th>\n",
              "      <th>Name</th>\n",
              "      <th>hERG_uM</th>\n",
              "      <th>Activity</th>\n",
              "      <th>pIC50</th>\n",
              "    </tr>\n",
              "  </thead>\n",
              "  <tbody>\n",
              "    <tr>\n",
              "      <th>0</th>\n",
              "      <td>CHEMBL841079</td>\n",
              "      <td>Inhibition of hERG currents Kv11.1</td>\n",
              "      <td>O=C1NCCN1CCN1CCC(c2cn(-c3ccc(F)cc3)c3ccc(Cl)cc...</td>\n",
              "      <td>J Med Chem</td>\n",
              "      <td>CHEMBL12713</td>\n",
              "      <td>0.014</td>\n",
              "      <td>1</td>\n",
              "      <td>7.853872</td>\n",
              "    </tr>\n",
              "  </tbody>\n",
              "</table>\n",
              "</div>\n",
              "    <div class=\"colab-df-buttons\">\n",
              "\n",
              "  <div class=\"colab-df-container\">\n",
              "    <button class=\"colab-df-convert\" onclick=\"convertToInteractive('df-94ddda8c-5436-4204-adba-6d224adbf94f')\"\n",
              "            title=\"Convert this dataframe to an interactive table.\"\n",
              "            style=\"display:none;\">\n",
              "\n",
              "  <svg xmlns=\"http://www.w3.org/2000/svg\" height=\"24px\" viewBox=\"0 -960 960 960\">\n",
              "    <path d=\"M120-120v-720h720v720H120Zm60-500h600v-160H180v160Zm220 220h160v-160H400v160Zm0 220h160v-160H400v160ZM180-400h160v-160H180v160Zm440 0h160v-160H620v160ZM180-180h160v-160H180v160Zm440 0h160v-160H620v160Z\"/>\n",
              "  </svg>\n",
              "    </button>\n",
              "\n",
              "  <style>\n",
              "    .colab-df-container {\n",
              "      display:flex;\n",
              "      gap: 12px;\n",
              "    }\n",
              "\n",
              "    .colab-df-convert {\n",
              "      background-color: #E8F0FE;\n",
              "      border: none;\n",
              "      border-radius: 50%;\n",
              "      cursor: pointer;\n",
              "      display: none;\n",
              "      fill: #1967D2;\n",
              "      height: 32px;\n",
              "      padding: 0 0 0 0;\n",
              "      width: 32px;\n",
              "    }\n",
              "\n",
              "    .colab-df-convert:hover {\n",
              "      background-color: #E2EBFA;\n",
              "      box-shadow: 0px 1px 2px rgba(60, 64, 67, 0.3), 0px 1px 3px 1px rgba(60, 64, 67, 0.15);\n",
              "      fill: #174EA6;\n",
              "    }\n",
              "\n",
              "    .colab-df-buttons div {\n",
              "      margin-bottom: 4px;\n",
              "    }\n",
              "\n",
              "    [theme=dark] .colab-df-convert {\n",
              "      background-color: #3B4455;\n",
              "      fill: #D2E3FC;\n",
              "    }\n",
              "\n",
              "    [theme=dark] .colab-df-convert:hover {\n",
              "      background-color: #434B5C;\n",
              "      box-shadow: 0px 1px 3px 1px rgba(0, 0, 0, 0.15);\n",
              "      filter: drop-shadow(0px 1px 2px rgba(0, 0, 0, 0.3));\n",
              "      fill: #FFFFFF;\n",
              "    }\n",
              "  </style>\n",
              "\n",
              "    <script>\n",
              "      const buttonEl =\n",
              "        document.querySelector('#df-94ddda8c-5436-4204-adba-6d224adbf94f button.colab-df-convert');\n",
              "      buttonEl.style.display =\n",
              "        google.colab.kernel.accessAllowed ? 'block' : 'none';\n",
              "\n",
              "      async function convertToInteractive(key) {\n",
              "        const element = document.querySelector('#df-94ddda8c-5436-4204-adba-6d224adbf94f');\n",
              "        const dataTable =\n",
              "          await google.colab.kernel.invokeFunction('convertToInteractive',\n",
              "                                                    [key], {});\n",
              "        if (!dataTable) return;\n",
              "\n",
              "        const docLinkHtml = 'Like what you see? Visit the ' +\n",
              "          '<a target=\"_blank\" href=https://colab.research.google.com/notebooks/data_table.ipynb>data table notebook</a>'\n",
              "          + ' to learn more about interactive tables.';\n",
              "        element.innerHTML = '';\n",
              "        dataTable['output_type'] = 'display_data';\n",
              "        await google.colab.output.renderOutput(dataTable, element);\n",
              "        const docLink = document.createElement('div');\n",
              "        docLink.innerHTML = docLinkHtml;\n",
              "        element.appendChild(docLink);\n",
              "      }\n",
              "    </script>\n",
              "  </div>\n",
              "\n",
              "    </div>\n",
              "  </div>\n"
            ]
          },
          "metadata": {},
          "execution_count": 4
        }
      ]
    },
    {
      "cell_type": "code",
      "source": [
        "from rdkit import Chem, DataStructs\n",
        "from rdkit.Chem import PandasTools, AllChem\n",
        "PandasTools.AddMoleculeColumnToFrame(data,'canonical_smiles','Molecule')\n",
        "data[[\"canonical_smiles\",\"Molecule\"]].head(1)"
      ],
      "metadata": {
        "colab": {
          "base_uri": "https://localhost:8080/",
          "height": 81
        },
        "id": "OKcNRizV-uX3",
        "outputId": "0a62a058-01f4-4413-8cce-5b62a2fd4d53"
      },
      "execution_count": 6,
      "outputs": [
        {
          "output_type": "execute_result",
          "data": {
            "text/plain": [
              "                                    canonical_smiles  \\\n",
              "0  O=C1NCCN1CCN1CCC(c2cn(-c3ccc(F)cc3)c3ccc(Cl)cc...   \n",
              "\n",
              "                                           Molecule  \n",
              "0  <rdkit.Chem.rdchem.Mol object at 0x7cc3a327fb50>  "
            ],
            "text/html": [
              "\n",
              "  <div id=\"df-170e9de0-033e-4185-bd57-23da7999e21c\" class=\"colab-df-container\">\n",
              "    <div>\n",
              "<style scoped>\n",
              "    .dataframe tbody tr th:only-of-type {\n",
              "        vertical-align: middle;\n",
              "    }\n",
              "\n",
              "    .dataframe tbody tr th {\n",
              "        vertical-align: top;\n",
              "    }\n",
              "\n",
              "    .dataframe thead th {\n",
              "        text-align: right;\n",
              "    }\n",
              "</style>\n",
              "<table border=\"1\" class=\"dataframe\">\n",
              "  <thead>\n",
              "    <tr style=\"text-align: right;\">\n",
              "      <th></th>\n",
              "      <th>canonical_smiles</th>\n",
              "      <th>Molecule</th>\n",
              "    </tr>\n",
              "  </thead>\n",
              "  <tbody>\n",
              "    <tr>\n",
              "      <th>0</th>\n",
              "      <td>O=C1NCCN1CCN1CCC(c2cn(-c3ccc(F)cc3)c3ccc(Cl)cc...</td>\n",
              "      <td>&lt;rdkit.Chem.rdchem.Mol object at 0x7cc3a327fb50&gt;</td>\n",
              "    </tr>\n",
              "  </tbody>\n",
              "</table>\n",
              "</div>\n",
              "    <div class=\"colab-df-buttons\">\n",
              "\n",
              "  <div class=\"colab-df-container\">\n",
              "    <button class=\"colab-df-convert\" onclick=\"convertToInteractive('df-170e9de0-033e-4185-bd57-23da7999e21c')\"\n",
              "            title=\"Convert this dataframe to an interactive table.\"\n",
              "            style=\"display:none;\">\n",
              "\n",
              "  <svg xmlns=\"http://www.w3.org/2000/svg\" height=\"24px\" viewBox=\"0 -960 960 960\">\n",
              "    <path d=\"M120-120v-720h720v720H120Zm60-500h600v-160H180v160Zm220 220h160v-160H400v160Zm0 220h160v-160H400v160ZM180-400h160v-160H180v160Zm440 0h160v-160H620v160ZM180-180h160v-160H180v160Zm440 0h160v-160H620v160Z\"/>\n",
              "  </svg>\n",
              "    </button>\n",
              "\n",
              "  <style>\n",
              "    .colab-df-container {\n",
              "      display:flex;\n",
              "      gap: 12px;\n",
              "    }\n",
              "\n",
              "    .colab-df-convert {\n",
              "      background-color: #E8F0FE;\n",
              "      border: none;\n",
              "      border-radius: 50%;\n",
              "      cursor: pointer;\n",
              "      display: none;\n",
              "      fill: #1967D2;\n",
              "      height: 32px;\n",
              "      padding: 0 0 0 0;\n",
              "      width: 32px;\n",
              "    }\n",
              "\n",
              "    .colab-df-convert:hover {\n",
              "      background-color: #E2EBFA;\n",
              "      box-shadow: 0px 1px 2px rgba(60, 64, 67, 0.3), 0px 1px 3px 1px rgba(60, 64, 67, 0.15);\n",
              "      fill: #174EA6;\n",
              "    }\n",
              "\n",
              "    .colab-df-buttons div {\n",
              "      margin-bottom: 4px;\n",
              "    }\n",
              "\n",
              "    [theme=dark] .colab-df-convert {\n",
              "      background-color: #3B4455;\n",
              "      fill: #D2E3FC;\n",
              "    }\n",
              "\n",
              "    [theme=dark] .colab-df-convert:hover {\n",
              "      background-color: #434B5C;\n",
              "      box-shadow: 0px 1px 3px 1px rgba(0, 0, 0, 0.15);\n",
              "      filter: drop-shadow(0px 1px 2px rgba(0, 0, 0, 0.3));\n",
              "      fill: #FFFFFF;\n",
              "    }\n",
              "  </style>\n",
              "\n",
              "    <script>\n",
              "      const buttonEl =\n",
              "        document.querySelector('#df-170e9de0-033e-4185-bd57-23da7999e21c button.colab-df-convert');\n",
              "      buttonEl.style.display =\n",
              "        google.colab.kernel.accessAllowed ? 'block' : 'none';\n",
              "\n",
              "      async function convertToInteractive(key) {\n",
              "        const element = document.querySelector('#df-170e9de0-033e-4185-bd57-23da7999e21c');\n",
              "        const dataTable =\n",
              "          await google.colab.kernel.invokeFunction('convertToInteractive',\n",
              "                                                    [key], {});\n",
              "        if (!dataTable) return;\n",
              "\n",
              "        const docLinkHtml = 'Like what you see? Visit the ' +\n",
              "          '<a target=\"_blank\" href=https://colab.research.google.com/notebooks/data_table.ipynb>data table notebook</a>'\n",
              "          + ' to learn more about interactive tables.';\n",
              "        element.innerHTML = '';\n",
              "        dataTable['output_type'] = 'display_data';\n",
              "        await google.colab.output.renderOutput(dataTable, element);\n",
              "        const docLink = document.createElement('div');\n",
              "        docLink.innerHTML = docLinkHtml;\n",
              "        element.appendChild(docLink);\n",
              "      }\n",
              "    </script>\n",
              "  </div>\n",
              "\n",
              "    </div>\n",
              "  </div>\n"
            ]
          },
          "metadata": {},
          "execution_count": 6
        }
      ]
    },
    {
      "cell_type": "markdown",
      "source": [
        "Some of the SMILES may not be sanitizable by RDKit. I’ll check if some of the SMILES could not be converted by looking for None values in the Molecule column"
      ],
      "metadata": {
        "id": "G_9mloCLAeVC"
      }
    },
    {
      "cell_type": "code",
      "source": [
        "data.Molecule.isna().sum()"
      ],
      "metadata": {
        "colab": {
          "base_uri": "https://localhost:8080/"
        },
        "id": "6cWlIYi7ASuT",
        "outputId": "03f22ee0-a8ab-41fd-e49d-e58744165d06"
      },
      "execution_count": 7,
      "outputs": [
        {
          "output_type": "execute_result",
          "data": {
            "text/plain": [
              "0"
            ]
          },
          "metadata": {},
          "execution_count": 7
        }
      ]
    },
    {
      "cell_type": "markdown",
      "source": [
        "All the SMILES appear to be converted for this dataset. Good.\n",
        "\n",
        "# **Vectorizing the molecules**"
      ],
      "metadata": {
        "id": "WdlYOx00AmKa"
      }
    },
    {
      "cell_type": "markdown",
      "source": [
        "The Morgan fingerprint is a standard for fingerprinting molecules, but others can be tried as well. Calculating the fingerprints with RDKit allows us to convert the molecules into vectors of numbers that can be used for modelling. It’s fast to compute with a little helper function and as an example I’ll convert the fingerprint of molecule number 1 into a little image."
      ],
      "metadata": {
        "id": "buSKkGOWAwj7"
      }
    },
    {
      "cell_type": "code",
      "source": [
        "def mol2fp(mol):\n",
        "    fp = AllChem.GetHashedMorganFingerprint(mol, 2, nBits=4096)\n",
        "    ar = np.zeros((1,), dtype=np.int8)\n",
        "    DataStructs.ConvertToNumpyArray(fp, ar)\n",
        "    return ar\n",
        "\n",
        "fp =mol2fp(Chem.MolFromSmiles(data.loc[1,\"canonical_smiles\"]))\n",
        "plt.matshow(fp.reshape((64,-1)))"
      ],
      "metadata": {
        "colab": {
          "base_uri": "https://localhost:8080/",
          "height": 454
        },
        "id": "gaQXd91VAlGD",
        "outputId": "8d66237e-c216-4b91-97a2-d5dd13b95e70"
      },
      "execution_count": 16,
      "outputs": [
        {
          "output_type": "execute_result",
          "data": {
            "text/plain": [
              "<matplotlib.image.AxesImage at 0x7cc39f1a6020>"
            ]
          },
          "metadata": {},
          "execution_count": 16
        },
        {
          "output_type": "display_data",
          "data": {
            "text/plain": [
              "<Figure size 480x480 with 1 Axes>"
            ],
            "image/png": "[encoded data removed]"
          },
          "metadata": {}
        }
      ]
    },
    {
      "cell_type": "markdown",
      "source": [
        "Using the apply function of the pandas dataframe makes it easy to add a new column with the fingerprint vectors."
      ],
      "metadata": {
        "id": "rar2j81JBpwq"
      }
    },
    {
      "cell_type": "code",
      "source": [
        "data[\"FPs\"] = data.Molecule.apply(mol2fp)\n"
      ],
      "metadata": {
        "id": "x12-Cs5cAhjD"
      },
      "execution_count": 17,
      "outputs": []
    },
    {
      "cell_type": "markdown",
      "source": [
        "#**Splitting and converting data to PyTorch tensors**\n",
        "\n",
        "PyTorch need to train on pytorch tensors, which are similar to Numpy arrays, but with some extra features such a the ability to be transferred to the GPU memory. But first we’ll devide the dataset into train, validation and test using scikit learn."
      ],
      "metadata": {
        "id": "ce4UeJYcBx9x"
      }
    },
    {
      "cell_type": "code",
      "source": [
        "X = np.stack(data.FPs.values)\n",
        "print(X.shape)"
      ],
      "metadata": {
        "colab": {
          "base_uri": "https://localhost:8080/"
        },
        "id": "uX43vO1eBxun",
        "outputId": "c5bba3e3-ad71-41c0-a4f6-e55279635db2"
      },
      "execution_count": 18,
      "outputs": [
        {
          "output_type": "stream",
          "name": "stdout",
          "text": [
            "(2968, 4096)\n"
          ]
        }
      ]
    },
    {
      "cell_type": "code",
      "source": [
        "from sklearn.preprocessing import StandardScaler\n",
        "from sklearn.model_selection import train_test_split"
      ],
      "metadata": {
        "id": "i4K8XthTB6xh"
      },
      "execution_count": 19,
      "outputs": []
    },
    {
      "cell_type": "code",
      "source": [
        "y = data.pIC50.values.reshape((-1,1))\n",
        "X_train, X_test, y_train, y_test = train_test_split(X, y,  test_size=0.10, random_state=42)\n",
        "X_train, X_validation, y_train, y_validation = train_test_split(X_train, y_train,  test_size=0.05, random_state=42)\n",
        "#Normalizing output using standard scaling\n",
        "scaler = StandardScaler()\n",
        "y_train = scaler.fit_transform(y_train)\n",
        "y_test = scaler.transform(y_test)\n",
        "y_validation = scaler.transform(y_validation)"
      ],
      "metadata": {
        "id": "_p2CF9FTB99z"
      },
      "execution_count": 20,
      "outputs": []
    },
    {
      "cell_type": "markdown",
      "source": [
        "I’ll remove some the bits with the lowest variance. They can be almost always on, or very seldom used. The VarienceThreshold class from scikit-learn is handy for just that. Just as for the normalization, we’ll compute the variance using the train set only, and use it to remove the same features from all the data sets."
      ],
      "metadata": {
        "id": "0oGj2Tc-CDjf"
      }
    },
    {
      "cell_type": "code",
      "source": [
        "# We'll remove low variance features\n",
        "from sklearn.feature_selection import VarianceThreshold\n",
        "feature_select = VarianceThreshold(threshold=0.05)\n",
        "X_train = feature_select.fit_transform(X_train)\n",
        "X_validation = feature_select.transform(X_validation)\n",
        "X_test = feature_select.transform(X_test)\n",
        "X_train.shape"
      ],
      "metadata": {
        "colab": {
          "base_uri": "https://localhost:8080/"
        },
        "id": "63tAB9CECEUZ",
        "outputId": "eb7ba7b7-16b0-4a5d-d5b8-d970c56d0340"
      },
      "execution_count": 21,
      "outputs": [
        {
          "output_type": "execute_result",
          "data": {
            "text/plain": [
              "(2537, 258)"
            ]
          },
          "metadata": {},
          "execution_count": 21
        }
      ]
    },
    {
      "cell_type": "markdown",
      "source": [
        "Seems like most of the bits were seldom used. The threshold is a hyper-parameter of the entire pipeline for the model, and could be tuned. We’l move the datasets to the GPU and convert them to pytorch tensors."
      ],
      "metadata": {
        "id": "qbIoGYHACN5E"
      }
    },
    {
      "cell_type": "code",
      "source": [
        "# Let's get those arrays transfered to the GPU memory as tensors\n",
        "device = torch.device(\"cuda:0\" if torch.cuda.is_available() else \"cpu\")\n",
        "print(device)\n",
        "# If you don't have a GPU, buy a graphics card. I have for a long time used a 1060 GTX, which is not that expensive anymore.\n",
        "X_train = torch.tensor(X_train, device=device).float()\n",
        "X_test = torch.tensor(X_test, device=device).float()\n",
        "X_validation = torch.tensor(X_validation, device=device).float()\n",
        "y_train = torch.tensor(y_train, device=device).float()\n",
        "y_test = torch.tensor(y_test, device=device).float()\n",
        "y_validation = torch.tensor(y_validation, device=device).float()\n",
        "X_train"
      ],
      "metadata": {
        "colab": {
          "base_uri": "https://localhost:8080/"
        },
        "id": "18GNxC6BCQZh",
        "outputId": "ef3f5a06-d144-41d3-dd42-89d092f28c25"
      },
      "execution_count": 22,
      "outputs": [
        {
          "output_type": "stream",
          "name": "stdout",
          "text": [
            "cuda:0\n"
          ]
        },
        {
          "output_type": "execute_result",
          "data": {
            "text/plain": [
              "tensor([[0., 0., 0.,  ..., 0., 0., 0.],\n",
              "        [0., 0., 0.,  ..., 0., 0., 0.],\n",
              "        [0., 0., 0.,  ..., 0., 0., 0.],\n",
              "        ...,\n",
              "        [0., 0., 0.,  ..., 0., 0., 0.],\n",
              "        [0., 0., 0.,  ..., 0., 0., 0.],\n",
              "        [0., 0., 0.,  ..., 0., 1., 0.]], device='cuda:0')"
            ]
          },
          "metadata": {},
          "execution_count": 22
        }
      ]
    },
    {
      "cell_type": "code",
      "source": [
        "X_train.shape"
      ],
      "metadata": {
        "colab": {
          "base_uri": "https://localhost:8080/"
        },
        "id": "BumcpMl6CV8K",
        "outputId": "6ff3cf35-8586-44ca-c5f7-99243d1a0ff2"
      },
      "execution_count": 23,
      "outputs": [
        {
          "output_type": "execute_result",
          "data": {
            "text/plain": [
              "torch.Size([2537, 258])"
            ]
          },
          "metadata": {},
          "execution_count": 23
        }
      ]
    },
    {
      "cell_type": "markdown",
      "source": [
        "Pytorch work with datasets and dataloaders to feed the minibatches to the model during training, so we convert the data. It’s easy to create a dataset from the already created tensors. The batch size is set to 256 and the trainloader will shuffle the data when an epoch has been used."
      ],
      "metadata": {
        "id": "ntKBZ1HwCZN5"
      }
    },
    {
      "cell_type": "code",
      "source": [
        "from torch.utils.data import TensorDataset\n",
        "train_dataset = TensorDataset(X_train, y_train)\n",
        "validation_dataset = TensorDataset(X_validation, y_validation)"
      ],
      "metadata": {
        "id": "NhFLupgxCZ-a"
      },
      "execution_count": 24,
      "outputs": []
    },
    {
      "cell_type": "code",
      "source": [
        "train_loader = torch.utils.data.DataLoader(dataset=train_dataset,\n",
        "                                          batch_size=256,\n",
        "                                          shuffle=True)\n",
        "validation_loader = torch.utils.data.DataLoader(dataset=validation_dataset,\n",
        "                                          batch_size=256,\n",
        "                                          shuffle=False)"
      ],
      "metadata": {
        "id": "PnDx1SO9Cevw"
      },
      "execution_count": 25,
      "outputs": []
    },
    {
      "cell_type": "markdown",
      "source": [
        "Good, with the training data ready it’s time for the fun part: Defining the network. In PyTorch this can be done by subclassing the nn.Module. The __init__ function will set up all the layers needed in the network, and the forward method will define how they are used in a syntax very similar to the Keras functional api: tensor = layer()(tensor). There’s no activation function for the final output, as this is a regression model, the linear activation is just fine."
      ],
      "metadata": {
        "id": "ME7tYZaGCiGB"
      }
    },
    {
      "cell_type": "code",
      "source": [
        "class Net(nn.Module):\n",
        "    def __init__(self, input_size, hidden_size, dropout_rate, out_size):\n",
        "        super(Net, self).__init__()\n",
        "        # Three layers and a output layer\n",
        "        self.fc1 = nn.Linear(input_size, hidden_size)  # 1st Full-Connected Layer\n",
        "        self.fc2 = nn.Linear(hidden_size, hidden_size)\n",
        "        self.fc3 = nn.Linear(hidden_size, hidden_size)\n",
        "        self.fc_out = nn.Linear(hidden_size, out_size) # Output layer\n",
        "        #Layer normalization for faster training\n",
        "        self.ln1 = nn.LayerNorm(hidden_size)\n",
        "        self.ln2 = nn.LayerNorm(hidden_size)\n",
        "        self.ln3 = nn.LayerNorm(hidden_size)\n",
        "        #LeakyReLU will be used as the activation function\n",
        "        self.activation = nn.LeakyReLU()\n",
        "        #Dropout for regularization\n",
        "        self.dropout = nn.Dropout(dropout_rate)\n",
        "\n",
        "    def forward(self, x):# Forward pass: stacking each layer together\n",
        "        # Fully connected =&amp;gt; Layer Norm =&amp;gt; LeakyReLU =&amp;gt; Dropout times 3\n",
        "        out = self.fc1(x)\n",
        "        out = self.ln1(out)\n",
        "        out = self.activation(out)\n",
        "        out = self.dropout(out)\n",
        "        out = self.fc2(out)\n",
        "        out = self.ln2(out)\n",
        "        out = self.activation(out)\n",
        "        out = self.dropout(out)\n",
        "        out = self.fc3(out)\n",
        "        out = self.ln3(out)\n",
        "        out = self.activation(out)\n",
        "        out = self.dropout(out)\n",
        "        #Final output layer\n",
        "        out = self.fc_out(out)\n",
        "        return out"
      ],
      "metadata": {
        "id": "NdEQsym4Ci4B"
      },
      "execution_count": 26,
      "outputs": []
    },
    {
      "cell_type": "code",
      "source": [
        "#Defining the hyperparameters\n",
        "input_size = X_train.size()[-1]     # The input size should fit our fingerprint size\n",
        "hidden_size = 1024   # The size of the hidden layer\n",
        "dropout_rate = 0.80    # The dropout rate\n",
        "output_size = 1        # This is just a single task, so this will be one\n",
        "learning_rate = 0.001  # The learning rate for the optimizer\n",
        "model = Net(input_size, hidden_size, dropout_rate, output_size)"
      ],
      "metadata": {
        "id": "z9EhHdy2Coe4"
      },
      "execution_count": 27,
      "outputs": []
    },
    {
      "cell_type": "markdown",
      "source": [
        "The model can be moved to the GPU with the .cuda() method inherited from the nn.Module class. I’ve yet to look up how the module discovers the layers that were set as properties."
      ],
      "metadata": {
        "id": "DisFAtbtCyvx"
      }
    },
    {
      "cell_type": "code",
      "source": [
        "model.cuda()"
      ],
      "metadata": {
        "colab": {
          "base_uri": "https://localhost:8080/"
        },
        "id": "6SCAPyQACzhA",
        "outputId": "eb8e5308-0c40-43dd-9c76-a5b8bb65b17b"
      },
      "execution_count": 28,
      "outputs": [
        {
          "output_type": "execute_result",
          "data": {
            "text/plain": [
              "Net(\n",
              "  (fc1): Linear(in_features=258, out_features=1024, bias=True)\n",
              "  (fc2): Linear(in_features=1024, out_features=1024, bias=True)\n",
              "  (fc3): Linear(in_features=1024, out_features=1024, bias=True)\n",
              "  (fc_out): Linear(in_features=1024, out_features=1, bias=True)\n",
              "  (ln1): LayerNorm((1024,), eps=1e-05, elementwise_affine=True)\n",
              "  (ln2): LayerNorm((1024,), eps=1e-05, elementwise_affine=True)\n",
              "  (ln3): LayerNorm((1024,), eps=1e-05, elementwise_affine=True)\n",
              "  (activation): LeakyReLU(negative_slope=0.01)\n",
              "  (dropout): Dropout(p=0.8, inplace=False)\n",
              ")"
            ]
          },
          "metadata": {},
          "execution_count": 28
        }
      ]
    },
    {
      "cell_type": "markdown",
      "source": [
        "For a loss function I’ll use the mean squared error. Adam is chosen for the optimizer."
      ],
      "metadata": {
        "id": "raBNsdyyC4vY"
      }
    },
    {
      "cell_type": "code",
      "source": [
        "criterion = nn.MSELoss()\n",
        "optimizer = torch.optim.Adam(model.parameters(), lr=learning_rate)"
      ],
      "metadata": {
        "id": "k8XN7ISMC33I"
      },
      "execution_count": 29,
      "outputs": []
    },
    {
      "cell_type": "markdown",
      "source": [
        "Training is a bit more handheld than in Keras. This gives flexibility to train the network layers in different ways, but here we just train it with all the data. For each epoch, the running_loss is zeroed, and the minibatches fetched from the train data in the DataLoader. We start each mini-batch loop by zeroing the gradients. All forward computations done from this point on, will be recorded and used to calculate the backward pass needed for optimzing the weights of the network. At the end of each epoch, some statistics is printed so that it’s possible to follow the training."
      ],
      "metadata": {
        "id": "XY0jWyX8C94Q"
      }
    },
    {
      "cell_type": "code",
      "source": [
        "model.train() #Ensure the network is in \"train\" mode with dropouts active\n",
        "epochs = 200\n",
        "for e in range(epochs):\n",
        "    running_loss = 0\n",
        "    for fps, labels in train_loader:\n",
        "        # Training pass\n",
        "        optimizer.zero_grad() # Initialize the gradients, which will be recorded during the forward pa\n",
        "\n",
        "        output = model(fps) #Forward pass of the mini-batch\n",
        "        loss = criterion(output, labels) #Computing the loss\n",
        "        loss.backward() # calculate the backward pass\n",
        "        optimizer.step() # Optimize the weights\n",
        "\n",
        "        running_loss += loss.item()\n",
        "    else:\n",
        "        if e%10 == 0:\n",
        "            validation_loss = torch.mean(( y_validation - model(X_validation) )**2).item()\n",
        "            print(\"Epoch: %3i Training loss: %0.2F Validation loss: %0.2F\"%(e,(running_loss/len(train_loader)), validation_loss))\n"
      ],
      "metadata": {
        "colab": {
          "base_uri": "https://localhost:8080/"
        },
        "id": "fzV9ck6qDBGc",
        "outputId": "d152ba0b-4844-4a47-bd3e-9c382c484e6f"
      },
      "execution_count": 30,
      "outputs": [
        {
          "output_type": "stream",
          "name": "stdout",
          "text": [
            "Epoch:   0 Training loss: 1.47 Validation loss: 0.92\n",
            "Epoch:  10 Training loss: 0.53 Validation loss: 0.54\n",
            "Epoch:  20 Training loss: 0.39 Validation loss: 0.50\n",
            "Epoch:  30 Training loss: 0.29 Validation loss: 0.39\n",
            "Epoch:  40 Training loss: 0.26 Validation loss: 0.46\n",
            "Epoch:  50 Training loss: 0.23 Validation loss: 0.41\n",
            "Epoch:  60 Training loss: 0.20 Validation loss: 0.36\n",
            "Epoch:  70 Training loss: 0.19 Validation loss: 0.35\n",
            "Epoch:  80 Training loss: 0.18 Validation loss: 0.36\n",
            "Epoch:  90 Training loss: 0.17 Validation loss: 0.38\n",
            "Epoch: 100 Training loss: 0.16 Validation loss: 0.43\n",
            "Epoch: 110 Training loss: 0.16 Validation loss: 0.36\n",
            "Epoch: 120 Training loss: 0.13 Validation loss: 0.33\n",
            "Epoch: 130 Training loss: 0.14 Validation loss: 0.44\n",
            "Epoch: 140 Training loss: 0.13 Validation loss: 0.36\n",
            "Epoch: 150 Training loss: 0.13 Validation loss: 0.39\n",
            "Epoch: 160 Training loss: 0.12 Validation loss: 0.34\n",
            "Epoch: 170 Training loss: 0.12 Validation loss: 0.38\n",
            "Epoch: 180 Training loss: 0.12 Validation loss: 0.37\n",
            "Epoch: 190 Training loss: 0.11 Validation loss: 0.32\n"
          ]
        }
      ]
    },
    {
      "cell_type": "markdown",
      "source": [
        "Before using the model for prediction, it must be set to evalulation mode, where the dropout layers are no longer active. We can calculate the prediction on the training set, validation set and the external test set."
      ],
      "metadata": {
        "id": "2OZoPfXmDLm0"
      }
    },
    {
      "cell_type": "code",
      "source": [
        "model.eval() #Swith to evaluation mode, where dropout is switched off\n",
        "y_pred_train = model(X_train)\n",
        "y_pred_validation = model(X_validation)\n",
        "y_pred_test = model(X_test)"
      ],
      "metadata": {
        "id": "Zn2j1KjfDNuI"
      },
      "execution_count": 31,
      "outputs": []
    },
    {
      "cell_type": "markdown",
      "source": [
        "Calculating the root mean square error can be done using the pytorch operators. The .item() method converts single element tensors to Python scalers for printing."
      ],
      "metadata": {
        "id": "ue4iICA7DQ2R"
      }
    },
    {
      "cell_type": "code",
      "source": [
        "\n",
        "torch.mean(( y_train - y_pred_train )**2).item()"
      ],
      "metadata": {
        "colab": {
          "base_uri": "https://localhost:8080/"
        },
        "id": "NDL4yi06DS_o",
        "outputId": "2968179a-de9d-4e83-938e-0afc2ddfb07b"
      },
      "execution_count": 32,
      "outputs": [
        {
          "output_type": "execute_result",
          "data": {
            "text/plain": [
              "0.055927395820617676"
            ]
          },
          "metadata": {},
          "execution_count": 32
        }
      ]
    },
    {
      "cell_type": "code",
      "source": [
        "\n",
        "torch.mean(( y_validation - y_pred_validation )**2).item()"
      ],
      "metadata": {
        "colab": {
          "base_uri": "https://localhost:8080/"
        },
        "id": "EOjFl2KdDWFp",
        "outputId": "70843080-e6eb-4de2-f68e-8ee62dfbc0c3"
      },
      "execution_count": 33,
      "outputs": [
        {
          "output_type": "execute_result",
          "data": {
            "text/plain": [
              "0.3003360629081726"
            ]
          },
          "metadata": {},
          "execution_count": 33
        }
      ]
    },
    {
      "cell_type": "code",
      "source": [
        "\n",
        "torch.mean(( y_test - y_pred_test )**2).item()"
      ],
      "metadata": {
        "colab": {
          "base_uri": "https://localhost:8080/"
        },
        "id": "CLLl8xPZDYqY",
        "outputId": "8e9b73e8-8a92-4508-d614-3175c7bc6884"
      },
      "execution_count": 34,
      "outputs": [
        {
          "output_type": "execute_result",
          "data": {
            "text/plain": [
              "0.34144771099090576"
            ]
          },
          "metadata": {},
          "execution_count": 34
        }
      ]
    },
    {
      "cell_type": "markdown",
      "source": [
        "The error on the held out test set is actually lower than the validation set, although both are much worse than the train set. This indicates overfitting, even though the dropout rate was set high at 0.8.\n",
        "Finally, lets evaluate the model visually. Before that is possible there seem to be a need to transport the tensor to cpu, detach it from gradient before we can can convert it to numpy and flatten it."
      ],
      "metadata": {
        "id": "kdIr7QpKDb_I"
      }
    },
    {
      "cell_type": "code",
      "source": [
        "def flatten(tensor):\n",
        "    return tensor.cpu().detach().numpy().flatten()"
      ],
      "metadata": {
        "id": "67BJpHhyDfxb"
      },
      "execution_count": 35,
      "outputs": []
    },
    {
      "cell_type": "code",
      "source": [
        "plt.scatter(flatten(y_pred_test), flatten(y_test), alpha=0.5, label=\"Test\")\n",
        "plt.scatter(flatten(y_pred_train), flatten(y_train), alpha=0.1, label=\"Train\")\n",
        "plt.legend()\n",
        "plt.plot([-1.5, 1.5], [-1.5,1.5], c=\"b\")"
      ],
      "metadata": {
        "colab": {
          "base_uri": "https://localhost:8080/",
          "height": 447
        },
        "id": "2Thg2XTlDf-Z",
        "outputId": "5a231ea5-c251-4623-c683-3d328d625538"
      },
      "execution_count": 36,
      "outputs": [
        {
          "output_type": "execute_result",
          "data": {
            "text/plain": [
              "[<matplotlib.lines.Line2D at 0x7cc39bf63790>]"
            ]
          },
          "metadata": {},
          "execution_count": 36
        },
        {
          "output_type": "display_data",
          "data": {
            "text/plain": [
              "<Figure size 640x480 with 1 Axes>"
            ],
            "image/png": "[encoded data removed]"
          },
          "metadata": {}
        }
      ]
    },
    {
      "cell_type": "markdown",
      "source": [
        "If we want to predict an arbitrary molecule, we have to remember to use the VarianceThreshold object on the fingerprints and also reverse scale the prediction from the feed forward neural network. The scikit_learn objects are already fit and can be used here."
      ],
      "metadata": {
        "id": "0pQzNx3AD1Fv"
      }
    },
    {
      "cell_type": "code",
      "source": [
        "def predict_smiles(smiles):\n",
        "    fp =mol2fp(Chem.MolFromSmiles(smiles)).reshape(1,-1)\n",
        "    fp_filtered = feature_select.transform(fp)\n",
        "    fp_tensor = torch.tensor(fp_filtered, device=device).float()\n",
        "    prediction = model(fp_tensor)\n",
        "    #return prediction.cpu().detach().numpy()\n",
        "    pIC50 = scaler.inverse_transform(prediction.cpu().detach().numpy())\n",
        "    return pIC50[0][0]\n",
        "predict_smiles('Cc1ccc2c(N3CCNCC3)cc(F)cc2n1')"
      ],
      "metadata": {
        "colab": {
          "base_uri": "https://localhost:8080/"
        },
        "id": "k6R_LAEsD0fQ",
        "outputId": "34125735-d099-4674-b72d-5d2979095dcc"
      },
      "execution_count": 37,
      "outputs": [
        {
          "output_type": "execute_result",
          "data": {
            "text/plain": [
              "5.1108747"
            ]
          },
          "metadata": {},
          "execution_count": 37
        }
      ]
    },
    {
      "cell_type": "markdown",
      "source": [
        "If you read this far, I hope you found it useful. There’s plenty to play around with to improve the model. The hyperparameters could be tuned (such as learning-rate, batch size, size of the hidden layers, activation functions, dropout or regularization with l2 etc.) But experiments with other fingerprints could be also be tried, as well as the feature selection step could be varied."
      ],
      "metadata": {
        "id": "RmDuHF7pEGif"
      }
    }
  ]
}